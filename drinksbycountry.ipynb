{
 "cells": [
  {
   "cell_type": "code",
   "execution_count": 6,
   "metadata": {},
   "outputs": [],
   "source": [
    "import pandas as pd\n",
    "import numpy as np\n",
    "from pprint import pprint as pp\n",
    "import matplotlib.pyplot as plt\n",
    "from math import sqrt\n",
    "import seaborn as sns\n",
    "import ipywidgets as widgets\n",
    "%matplotlib inline\n",
    "import matplotlib.pyplot as plt\n",
    "plt.rcParams['figure.figsize'] = [10, 10]\n",
    "from IPython.display import display "
   ]
  },
  {
   "cell_type": "code",
   "execution_count": 7,
   "metadata": {},
   "outputs": [
    {
     "data": {
      "text/html": [
       "<div>\n",
       "<style scoped>\n",
       "    .dataframe tbody tr th:only-of-type {\n",
       "        vertical-align: middle;\n",
       "    }\n",
       "\n",
       "    .dataframe tbody tr th {\n",
       "        vertical-align: top;\n",
       "    }\n",
       "\n",
       "    .dataframe thead th {\n",
       "        text-align: right;\n",
       "    }\n",
       "</style>\n",
       "<table border=\"1\" class=\"dataframe\">\n",
       "  <thead>\n",
       "    <tr style=\"text-align: right;\">\n",
       "      <th></th>\n",
       "      <th>country</th>\n",
       "      <th>beer_servings</th>\n",
       "      <th>spirit_servings</th>\n",
       "      <th>wine_servings</th>\n",
       "      <th>total_litres_of_pure_alcohol</th>\n",
       "      <th>continent</th>\n",
       "    </tr>\n",
       "  </thead>\n",
       "  <tbody>\n",
       "    <tr>\n",
       "      <th>0</th>\n",
       "      <td>Afghanistan</td>\n",
       "      <td>0</td>\n",
       "      <td>0</td>\n",
       "      <td>0</td>\n",
       "      <td>0.0</td>\n",
       "      <td>Asia</td>\n",
       "    </tr>\n",
       "    <tr>\n",
       "      <th>1</th>\n",
       "      <td>Albania</td>\n",
       "      <td>89</td>\n",
       "      <td>132</td>\n",
       "      <td>54</td>\n",
       "      <td>4.9</td>\n",
       "      <td>Europe</td>\n",
       "    </tr>\n",
       "    <tr>\n",
       "      <th>2</th>\n",
       "      <td>Algeria</td>\n",
       "      <td>25</td>\n",
       "      <td>0</td>\n",
       "      <td>14</td>\n",
       "      <td>0.7</td>\n",
       "      <td>Africa</td>\n",
       "    </tr>\n",
       "    <tr>\n",
       "      <th>3</th>\n",
       "      <td>Andorra</td>\n",
       "      <td>245</td>\n",
       "      <td>138</td>\n",
       "      <td>312</td>\n",
       "      <td>12.4</td>\n",
       "      <td>Europe</td>\n",
       "    </tr>\n",
       "    <tr>\n",
       "      <th>4</th>\n",
       "      <td>Angola</td>\n",
       "      <td>217</td>\n",
       "      <td>57</td>\n",
       "      <td>45</td>\n",
       "      <td>5.9</td>\n",
       "      <td>Africa</td>\n",
       "    </tr>\n",
       "  </tbody>\n",
       "</table>\n",
       "</div>"
      ],
      "text/plain": [
       "       country  beer_servings  spirit_servings  wine_servings  \\\n",
       "0  Afghanistan              0                0              0   \n",
       "1      Albania             89              132             54   \n",
       "2      Algeria             25                0             14   \n",
       "3      Andorra            245              138            312   \n",
       "4       Angola            217               57             45   \n",
       "\n",
       "   total_litres_of_pure_alcohol continent  \n",
       "0                           0.0      Asia  \n",
       "1                           4.9    Europe  \n",
       "2                           0.7    Africa  \n",
       "3                          12.4    Europe  \n",
       "4                           5.9    Africa  "
      ]
     },
     "execution_count": 7,
     "metadata": {},
     "output_type": "execute_result"
    }
   ],
   "source": [
    "drinks_df = pd.read_csv('http://bit.ly/drinksbycountry')\n",
    "drinks_df.head()\n"
   ]
  },
  {
   "cell_type": "markdown",
   "metadata": {},
   "source": [
    "## Usage of the pandas idxmax() series function\n",
    "\n",
    "If you want to get back the index (i.e row) from a dataframe which corresponds with the maximum of a certain column:\n",
    "\n",
    "```python\n",
    "for continent, df in drinks_df.groupby('continent'):\n",
    "    print(df.loc[df.total_litres_of_pure_alcohol.idxmax(),['country','total_litres_of_pure_alcohol']])\n",
    "```\n",
    "\n",
    "Note that you don't have to return the column you were checking the max of, i.e. we could just return the following:\n",
    "\n",
    "```python\n",
    "for continent, df in drinks_df.groupby('continent'):\n",
    "    print(df.loc[df['total_litres_of_pure_alcohol'].idxmax(),['country','beer_servings']])\n",
    "    \n",
    "```\n"
   ]
  },
  {
   "cell_type": "markdown",
   "metadata": {},
   "source": [
    "## axis = 0 and axis = 1 explanation\n",
    "\n",
    "**Axis 0 will act on all the ROWS in each COLUMN**\n",
    "**Axis 1 will act on all the COLUMNS in each ROW**\n",
    "\n",
    "So a mean on axis 0 will be the mean of all the rows in each column, and a mean on axis 1 will be a mean of all the columns in each row."
   ]
  },
  {
   "cell_type": "code",
   "execution_count": 5,
   "metadata": {},
   "outputs": [
    {
     "ename": "NameError",
     "evalue": "name 'drinks_df' is not defined",
     "output_type": "error",
     "traceback": [
      "\u001b[0;31m---------------------------------------------------------------------------\u001b[0m",
      "\u001b[0;31mNameError\u001b[0m                                 Traceback (most recent call last)",
      "\u001b[0;32m<ipython-input-5-20af17da8d36>\u001b[0m in \u001b[0;36m<module>\u001b[0;34m\u001b[0m\n\u001b[0;32m----> 1\u001b[0;31m \u001b[0mdrinks_df\u001b[0m\u001b[0;34m.\u001b[0m\u001b[0mhead\u001b[0m\u001b[0;34m(\u001b[0m\u001b[0;34m)\u001b[0m\u001b[0;34m\u001b[0m\u001b[0;34m\u001b[0m\u001b[0m\n\u001b[0m\u001b[1;32m      2\u001b[0m \u001b[0;34m\u001b[0m\u001b[0m\n\u001b[1;32m      3\u001b[0m \u001b[0;31m# drinks_df.loc[drinks_df.total_litres_of_pure_alcohol.idxmax(),:]\u001b[0m\u001b[0;34m\u001b[0m\u001b[0;34m\u001b[0m\u001b[0;34m\u001b[0m\u001b[0m\n\u001b[1;32m      4\u001b[0m \u001b[0;34m\u001b[0m\u001b[0m\n\u001b[1;32m      5\u001b[0m \u001b[0;34m\u001b[0m\u001b[0m\n",
      "\u001b[0;31mNameError\u001b[0m: name 'drinks_df' is not defined"
     ]
    }
   ],
   "source": [
    "drinks_df.head()\n",
    "\n",
    "# drinks_df.loc[drinks_df.total_litres_of_pure_alcohol.idxmax(),:]\n",
    "\n",
    "\n",
    "drinks_df.loc[:,'total_servings'] = drinks_df.loc[:,'beer_servings':'wine_servings'].copy().apply(sum, axis=1)\n",
    "\n",
    "for continent, df in drinks_df.groupby('continent'):\n",
    "    print(df.loc[df['total_litres_of_pure_alcohol'].idxmax(),['country','beer_servings']])\n",
    "\n",
    "# for grpname, df in drinks_df.groupby('continent'):\n",
    "#     df.loc[:,'total_servings'] = df.loc[:,'beer_servings':'wine_servings'].copy().apply(sum, axis=1)\n",
    "\n",
    "# drinks_df.groupby('continent').apply(max,axis=0)"
   ]
  },
  {
   "cell_type": "markdown",
   "metadata": {},
   "source": [
    "## Plotting of a dataframe containing multiple groupings of data\n",
    "\n",
    "In this case, the drinks_df has multiple countries represented. We would like to create a scatter plot of all of the total_litres of alcohol data, and color those scatter points based on which continent those countries are part of)\n"
   ]
  },
  {
   "cell_type": "code",
   "execution_count": 8,
   "metadata": {},
   "outputs": [
    {
     "data": {
      "application/vnd.jupyter.widget-view+json": {
       "model_id": "a62f38a6906a45b1b40429f6f5d0c95c",
       "version_major": 2,
       "version_minor": 0
      },
      "text/plain": [
       "interactive(children=(Dropdown(description='diag_kind', options=('kde', 'hist'), value='kde'), Output()), _dom…"
      ]
     },
     "metadata": {},
     "output_type": "display_data"
    }
   ],
   "source": [
    "# plt.subplot(2,1,1)\n",
    "# plt.scatter(x=drinks_df['continent'], y=drinks_df['total_litres_of_pure_alcohol'])\n",
    "# plt.subplot(2,1,2)\n",
    "# # drinks_df.loc[:,'total_servings'] = drinks_df.groupby('continent').loc[:,'beer_servings':'wine_servings'].apply(sum, axis=1)\n",
    "\n",
    "\n",
    "# bplot=sns.boxplot(y='total_litres_of_pure_alcohol', x='continent', \n",
    "#                  data=drinks_df, \n",
    "#                  width=0.5,\n",
    "#                  palette=\"colorblind\")\n",
    " \n",
    "# # add swarmplot\n",
    "# bplot=sns.swarmplot(y='total_litres_of_pure_alcohol', x='continent',\n",
    "#               data=drinks_df, \n",
    "#               color='black',\n",
    "#               alpha=0.75)\n",
    "\n",
    "# bplot.text(1, 10, \"An annotation\", horizontalalignment='left', size='medium', color='black', weight='semibold')\n",
    "\n",
    "\n",
    "# sns.pairplot(drinks_df)\n",
    "\n",
    "\n",
    "# sns.pairplot(drinks_df, diag_kind=\"kde\")\n",
    " \n",
    "# # Histogram\n",
    "# sns.pairplot(drinks_df, diag_kind=\"hist\")\n",
    " \n",
    "# You can custom it as a density plot or histogram so see the related sections\n",
    "@ipywidgets.interact\n",
    "def plot(diag_kind=['kde','hist']):\n",
    "         (sns.pairplot(drinks_df, \n",
    "                       diag_kind=diag_kind, \n",
    "                       hue='continent',\n",
    "                       ))\n",
    "\n"
   ]
  },
  {
   "cell_type": "code",
   "execution_count": 16,
   "metadata": {},
   "outputs": [
    {
     "data": {
      "application/vnd.jupyter.widget-view+json": {
       "model_id": "b4226f2a8fee420db57434df4edc19d0",
       "version_major": 2,
       "version_minor": 0
      },
      "text/plain": [
       "IntSlider(value=0)"
      ]
     },
     "metadata": {},
     "output_type": "display_data"
    },
    {
     "data": {
      "application/vnd.jupyter.widget-view+json": {
       "model_id": "6edf8426595143348e994a14d88980fb",
       "version_major": 2,
       "version_minor": 0
      },
      "text/plain": [
       "IntText(value=0)"
      ]
     },
     "metadata": {},
     "output_type": "display_data"
    },
    {
     "data": {
      "application/vnd.jupyter.widget-view+json": {
       "model_id": "9f85f68c1dc44339850eec2275cdb15e",
       "version_major": 2,
       "version_minor": 0
      },
      "text/plain": [
       "Button(description='Medium', style=ButtonStyle())"
      ]
     },
     "metadata": {},
     "output_type": "display_data"
    },
    {
     "name": "stdout",
     "output_type": "stream",
     "text": [
      "Hello from the Medium button!\n",
      "Hello from the Medium button!\n",
      "Hello from the Medium button!\n",
      "Hello from the Medium button!\n",
      "Hello from the Medium button!\n"
     ]
    }
   ],
   "source": [
    "slider = widgets.IntSlider()\n",
    "text = widgets.IntText()\n",
    "display(slider, text)\n",
    "widgets.jslink((slider, 'value'), (text, 'value'))\n",
    "\n",
    "btn = widgets.Button(description='Medium')\n",
    "display(btn)\n",
    "def btn_eventhandler(obj):\n",
    "    print('Hello from the {} button!'.format(obj.description))\n",
    "btn.on_click(btn_eventhandler)"
   ]
  },
  {
   "cell_type": "code",
   "execution_count": 18,
   "metadata": {},
   "outputs": [
    {
     "data": {
      "text/html": [
       "<div>\n",
       "<style scoped>\n",
       "    .dataframe tbody tr th:only-of-type {\n",
       "        vertical-align: middle;\n",
       "    }\n",
       "\n",
       "    .dataframe tbody tr th {\n",
       "        vertical-align: top;\n",
       "    }\n",
       "\n",
       "    .dataframe thead th {\n",
       "        text-align: right;\n",
       "    }\n",
       "</style>\n",
       "<table border=\"1\" class=\"dataframe\">\n",
       "  <thead>\n",
       "    <tr style=\"text-align: right;\">\n",
       "      <th></th>\n",
       "      <th>year</th>\n",
       "      <th>quarter</th>\n",
       "      <th>market</th>\n",
       "      <th>dur_stay</th>\n",
       "      <th>mode</th>\n",
       "      <th>purpose</th>\n",
       "      <th>area</th>\n",
       "      <th>visits</th>\n",
       "      <th>spend</th>\n",
       "      <th>nights</th>\n",
       "      <th>sample</th>\n",
       "    </tr>\n",
       "  </thead>\n",
       "  <tbody>\n",
       "    <tr>\n",
       "      <th>0</th>\n",
       "      <td>2002</td>\n",
       "      <td>Q1</td>\n",
       "      <td>Belgium</td>\n",
       "      <td>1-3  nights</td>\n",
       "      <td>Air</td>\n",
       "      <td>Holiday</td>\n",
       "      <td>LONDON</td>\n",
       "      <td>3.572186</td>\n",
       "      <td>0.969138</td>\n",
       "      <td>6.954456</td>\n",
       "      <td>5</td>\n",
       "    </tr>\n",
       "    <tr>\n",
       "      <th>1</th>\n",
       "      <td>2002</td>\n",
       "      <td>Q1</td>\n",
       "      <td>Belgium</td>\n",
       "      <td>1-3  nights</td>\n",
       "      <td>Air</td>\n",
       "      <td>Business</td>\n",
       "      <td>LONDON</td>\n",
       "      <td>9.284226</td>\n",
       "      <td>2.399577</td>\n",
       "      <td>12.604959</td>\n",
       "      <td>19</td>\n",
       "    </tr>\n",
       "    <tr>\n",
       "      <th>2</th>\n",
       "      <td>2002</td>\n",
       "      <td>Q1</td>\n",
       "      <td>Belgium</td>\n",
       "      <td>1-3  nights</td>\n",
       "      <td>Air</td>\n",
       "      <td>VFR</td>\n",
       "      <td>LONDON</td>\n",
       "      <td>0.877182</td>\n",
       "      <td>0.089833</td>\n",
       "      <td>2.153128</td>\n",
       "      <td>3</td>\n",
       "    </tr>\n",
       "    <tr>\n",
       "      <th>3</th>\n",
       "      <td>2002</td>\n",
       "      <td>Q1</td>\n",
       "      <td>Belgium</td>\n",
       "      <td>1-3  nights</td>\n",
       "      <td>Air</td>\n",
       "      <td>Miscellaneous</td>\n",
       "      <td>LONDON</td>\n",
       "      <td>0.163874</td>\n",
       "      <td>0.010160</td>\n",
       "      <td>0.163874</td>\n",
       "      <td>1</td>\n",
       "    </tr>\n",
       "    <tr>\n",
       "      <th>4</th>\n",
       "      <td>2002</td>\n",
       "      <td>Q1</td>\n",
       "      <td>Belgium</td>\n",
       "      <td>1-3  nights</td>\n",
       "      <td>Sea</td>\n",
       "      <td>Business</td>\n",
       "      <td>LONDON</td>\n",
       "      <td>1.648670</td>\n",
       "      <td>0.016789</td>\n",
       "      <td>1.650300</td>\n",
       "      <td>1</td>\n",
       "    </tr>\n",
       "    <tr>\n",
       "      <th>5</th>\n",
       "      <td>2002</td>\n",
       "      <td>Q1</td>\n",
       "      <td>Belgium</td>\n",
       "      <td>1-3  nights</td>\n",
       "      <td>Sea</td>\n",
       "      <td>Miscellaneous</td>\n",
       "      <td>LONDON</td>\n",
       "      <td>0.590807</td>\n",
       "      <td>0.003953</td>\n",
       "      <td>1.772420</td>\n",
       "      <td>1</td>\n",
       "    </tr>\n",
       "    <tr>\n",
       "      <th>6</th>\n",
       "      <td>2002</td>\n",
       "      <td>Q1</td>\n",
       "      <td>Belgium</td>\n",
       "      <td>1-3  nights</td>\n",
       "      <td>Tunnel</td>\n",
       "      <td>Holiday</td>\n",
       "      <td>LONDON</td>\n",
       "      <td>10.940251</td>\n",
       "      <td>2.765473</td>\n",
       "      <td>23.242688</td>\n",
       "      <td>30</td>\n",
       "    </tr>\n",
       "    <tr>\n",
       "      <th>7</th>\n",
       "      <td>2002</td>\n",
       "      <td>Q1</td>\n",
       "      <td>Belgium</td>\n",
       "      <td>1-3  nights</td>\n",
       "      <td>Tunnel</td>\n",
       "      <td>Business</td>\n",
       "      <td>LONDON</td>\n",
       "      <td>6.052632</td>\n",
       "      <td>1.446697</td>\n",
       "      <td>10.428555</td>\n",
       "      <td>16</td>\n",
       "    </tr>\n",
       "    <tr>\n",
       "      <th>8</th>\n",
       "      <td>2002</td>\n",
       "      <td>Q1</td>\n",
       "      <td>Belgium</td>\n",
       "      <td>1-3  nights</td>\n",
       "      <td>Tunnel</td>\n",
       "      <td>VFR</td>\n",
       "      <td>LONDON</td>\n",
       "      <td>5.559403</td>\n",
       "      <td>0.468140</td>\n",
       "      <td>9.441416</td>\n",
       "      <td>13</td>\n",
       "    </tr>\n",
       "    <tr>\n",
       "      <th>9</th>\n",
       "      <td>2002</td>\n",
       "      <td>Q1</td>\n",
       "      <td>Belgium</td>\n",
       "      <td>1-3  nights</td>\n",
       "      <td>Tunnel</td>\n",
       "      <td>Miscellaneous</td>\n",
       "      <td>LONDON</td>\n",
       "      <td>0.704948</td>\n",
       "      <td>0.465721</td>\n",
       "      <td>1.409894</td>\n",
       "      <td>2</td>\n",
       "    </tr>\n",
       "    <tr>\n",
       "      <th>10</th>\n",
       "      <td>2002</td>\n",
       "      <td>Q1</td>\n",
       "      <td>Belgium</td>\n",
       "      <td>4-7  nights</td>\n",
       "      <td>Air</td>\n",
       "      <td>Business</td>\n",
       "      <td>LONDON</td>\n",
       "      <td>0.479947</td>\n",
       "      <td>0.102486</td>\n",
       "      <td>3.357790</td>\n",
       "      <td>1</td>\n",
       "    </tr>\n",
       "    <tr>\n",
       "      <th>11</th>\n",
       "      <td>2002</td>\n",
       "      <td>Q1</td>\n",
       "      <td>Belgium</td>\n",
       "      <td>4-7  nights</td>\n",
       "      <td>Air</td>\n",
       "      <td>VFR</td>\n",
       "      <td>LONDON</td>\n",
       "      <td>0.158462</td>\n",
       "      <td>0.017748</td>\n",
       "      <td>1.109230</td>\n",
       "      <td>1</td>\n",
       "    </tr>\n",
       "    <tr>\n",
       "      <th>12</th>\n",
       "      <td>2002</td>\n",
       "      <td>Q1</td>\n",
       "      <td>Belgium</td>\n",
       "      <td>4-7  nights</td>\n",
       "      <td>Tunnel</td>\n",
       "      <td>Holiday</td>\n",
       "      <td>LONDON</td>\n",
       "      <td>2.277937</td>\n",
       "      <td>1.031108</td>\n",
       "      <td>9.547630</td>\n",
       "      <td>6</td>\n",
       "    </tr>\n",
       "    <tr>\n",
       "      <th>13</th>\n",
       "      <td>2002</td>\n",
       "      <td>Q1</td>\n",
       "      <td>Belgium</td>\n",
       "      <td>4-7  nights</td>\n",
       "      <td>Tunnel</td>\n",
       "      <td>Business</td>\n",
       "      <td>LONDON</td>\n",
       "      <td>1.161690</td>\n",
       "      <td>0.176559</td>\n",
       "      <td>3.850700</td>\n",
       "      <td>3</td>\n",
       "    </tr>\n",
       "    <tr>\n",
       "      <th>14</th>\n",
       "      <td>2002</td>\n",
       "      <td>Q1</td>\n",
       "      <td>Belgium</td>\n",
       "      <td>4-7  nights</td>\n",
       "      <td>Tunnel</td>\n",
       "      <td>VFR</td>\n",
       "      <td>LONDON</td>\n",
       "      <td>1.063328</td>\n",
       "      <td>0.328267</td>\n",
       "      <td>4.653940</td>\n",
       "      <td>3</td>\n",
       "    </tr>\n",
       "    <tr>\n",
       "      <th>15</th>\n",
       "      <td>2002</td>\n",
       "      <td>Q1</td>\n",
       "      <td>Belgium</td>\n",
       "      <td>4-7  nights</td>\n",
       "      <td>Tunnel</td>\n",
       "      <td>Miscellaneous</td>\n",
       "      <td>LONDON</td>\n",
       "      <td>0.352474</td>\n",
       "      <td>0.009902</td>\n",
       "      <td>2.467320</td>\n",
       "      <td>1</td>\n",
       "    </tr>\n",
       "    <tr>\n",
       "      <th>16</th>\n",
       "      <td>2002</td>\n",
       "      <td>Q1</td>\n",
       "      <td>Belgium</td>\n",
       "      <td>8-14 nights</td>\n",
       "      <td>Air</td>\n",
       "      <td>Holiday</td>\n",
       "      <td>LONDON</td>\n",
       "      <td>0.528879</td>\n",
       "      <td>0.066925</td>\n",
       "      <td>1.585210</td>\n",
       "      <td>1</td>\n",
       "    </tr>\n",
       "    <tr>\n",
       "      <th>17</th>\n",
       "      <td>2002</td>\n",
       "      <td>Q1</td>\n",
       "      <td>Belgium</td>\n",
       "      <td>8-14 nights</td>\n",
       "      <td>Air</td>\n",
       "      <td>VFR</td>\n",
       "      <td>LONDON</td>\n",
       "      <td>0.324765</td>\n",
       "      <td>0.145170</td>\n",
       "      <td>3.247650</td>\n",
       "      <td>1</td>\n",
       "    </tr>\n",
       "    <tr>\n",
       "      <th>18</th>\n",
       "      <td>2002</td>\n",
       "      <td>Q1</td>\n",
       "      <td>Belgium</td>\n",
       "      <td>8-14 nights</td>\n",
       "      <td>Tunnel</td>\n",
       "      <td>Holiday</td>\n",
       "      <td>LONDON</td>\n",
       "      <td>0.415971</td>\n",
       "      <td>0.125145</td>\n",
       "      <td>4.411000</td>\n",
       "      <td>1</td>\n",
       "    </tr>\n",
       "    <tr>\n",
       "      <th>19</th>\n",
       "      <td>2002</td>\n",
       "      <td>Q1</td>\n",
       "      <td>Belgium</td>\n",
       "      <td>8-14 nights</td>\n",
       "      <td>Tunnel</td>\n",
       "      <td>VFR</td>\n",
       "      <td>LONDON</td>\n",
       "      <td>0.797496</td>\n",
       "      <td>0.171898</td>\n",
       "      <td>5.653960</td>\n",
       "      <td>2</td>\n",
       "    </tr>\n",
       "    <tr>\n",
       "      <th>20</th>\n",
       "      <td>2002</td>\n",
       "      <td>Q1</td>\n",
       "      <td>Belgium</td>\n",
       "      <td>8-14 nights</td>\n",
       "      <td>Tunnel</td>\n",
       "      <td>Miscellaneous</td>\n",
       "      <td>LONDON</td>\n",
       "      <td>0.400707</td>\n",
       "      <td>0.000000</td>\n",
       "      <td>5.209190</td>\n",
       "      <td>1</td>\n",
       "    </tr>\n",
       "    <tr>\n",
       "      <th>21</th>\n",
       "      <td>2002</td>\n",
       "      <td>Q1</td>\n",
       "      <td>Belgium</td>\n",
       "      <td>15+  nights</td>\n",
       "      <td>Air</td>\n",
       "      <td>VFR</td>\n",
       "      <td>LONDON</td>\n",
       "      <td>3.279740</td>\n",
       "      <td>1.679230</td>\n",
       "      <td>49.196098</td>\n",
       "      <td>1</td>\n",
       "    </tr>\n",
       "    <tr>\n",
       "      <th>22</th>\n",
       "      <td>2002</td>\n",
       "      <td>Q1</td>\n",
       "      <td>Luxembourg</td>\n",
       "      <td>1-3  nights</td>\n",
       "      <td>Air</td>\n",
       "      <td>Holiday</td>\n",
       "      <td>LONDON</td>\n",
       "      <td>0.137850</td>\n",
       "      <td>0.024629</td>\n",
       "      <td>0.413550</td>\n",
       "      <td>1</td>\n",
       "    </tr>\n",
       "    <tr>\n",
       "      <th>23</th>\n",
       "      <td>2002</td>\n",
       "      <td>Q1</td>\n",
       "      <td>Luxembourg</td>\n",
       "      <td>1-3  nights</td>\n",
       "      <td>Air</td>\n",
       "      <td>VFR</td>\n",
       "      <td>LONDON</td>\n",
       "      <td>0.239208</td>\n",
       "      <td>0.014831</td>\n",
       "      <td>0.478416</td>\n",
       "      <td>1</td>\n",
       "    </tr>\n",
       "    <tr>\n",
       "      <th>24</th>\n",
       "      <td>2002</td>\n",
       "      <td>Q1</td>\n",
       "      <td>Luxembourg</td>\n",
       "      <td>1-3  nights</td>\n",
       "      <td>Air</td>\n",
       "      <td>Miscellaneous</td>\n",
       "      <td>LONDON</td>\n",
       "      <td>0.388713</td>\n",
       "      <td>0.160150</td>\n",
       "      <td>0.777426</td>\n",
       "      <td>1</td>\n",
       "    </tr>\n",
       "    <tr>\n",
       "      <th>25</th>\n",
       "      <td>2002</td>\n",
       "      <td>Q1</td>\n",
       "      <td>Luxembourg</td>\n",
       "      <td>1-3  nights</td>\n",
       "      <td>Tunnel</td>\n",
       "      <td>Miscellaneous</td>\n",
       "      <td>LONDON</td>\n",
       "      <td>0.500884</td>\n",
       "      <td>0.252194</td>\n",
       "      <td>0.500884</td>\n",
       "      <td>1</td>\n",
       "    </tr>\n",
       "    <tr>\n",
       "      <th>26</th>\n",
       "      <td>2002</td>\n",
       "      <td>Q1</td>\n",
       "      <td>Luxembourg</td>\n",
       "      <td>4-7  nights</td>\n",
       "      <td>Tunnel</td>\n",
       "      <td>Holiday</td>\n",
       "      <td>LONDON</td>\n",
       "      <td>2.217730</td>\n",
       "      <td>0.447155</td>\n",
       "      <td>8.870940</td>\n",
       "      <td>1</td>\n",
       "    </tr>\n",
       "    <tr>\n",
       "      <th>27</th>\n",
       "      <td>2002</td>\n",
       "      <td>Q1</td>\n",
       "      <td>Luxembourg</td>\n",
       "      <td>15+  nights</td>\n",
       "      <td>Tunnel</td>\n",
       "      <td>Holiday</td>\n",
       "      <td>LONDON</td>\n",
       "      <td>0.500884</td>\n",
       "      <td>0.176536</td>\n",
       "      <td>7.513260</td>\n",
       "      <td>1</td>\n",
       "    </tr>\n",
       "    <tr>\n",
       "      <th>28</th>\n",
       "      <td>2002</td>\n",
       "      <td>Q1</td>\n",
       "      <td>France</td>\n",
       "      <td>1-3  nights</td>\n",
       "      <td>Air</td>\n",
       "      <td>Holiday</td>\n",
       "      <td>LONDON</td>\n",
       "      <td>10.967136</td>\n",
       "      <td>3.472965</td>\n",
       "      <td>21.842510</td>\n",
       "      <td>11</td>\n",
       "    </tr>\n",
       "    <tr>\n",
       "      <th>29</th>\n",
       "      <td>2002</td>\n",
       "      <td>Q1</td>\n",
       "      <td>France</td>\n",
       "      <td>1-3  nights</td>\n",
       "      <td>Air</td>\n",
       "      <td>Business</td>\n",
       "      <td>LONDON</td>\n",
       "      <td>32.078309</td>\n",
       "      <td>14.893142</td>\n",
       "      <td>52.825806</td>\n",
       "      <td>43</td>\n",
       "    </tr>\n",
       "    <tr>\n",
       "      <th>...</th>\n",
       "      <td>...</td>\n",
       "      <td>...</td>\n",
       "      <td>...</td>\n",
       "      <td>...</td>\n",
       "      <td>...</td>\n",
       "      <td>...</td>\n",
       "      <td>...</td>\n",
       "      <td>...</td>\n",
       "      <td>...</td>\n",
       "      <td>...</td>\n",
       "      <td>...</td>\n",
       "    </tr>\n",
       "    <tr>\n",
       "      <th>57555</th>\n",
       "      <td>2018</td>\n",
       "      <td>Q4</td>\n",
       "      <td>Nigeria</td>\n",
       "      <td>1-3  nights</td>\n",
       "      <td>Air</td>\n",
       "      <td>Holiday</td>\n",
       "      <td>LONDON</td>\n",
       "      <td>0.830270</td>\n",
       "      <td>0.988101</td>\n",
       "      <td>2.026663</td>\n",
       "      <td>2</td>\n",
       "    </tr>\n",
       "    <tr>\n",
       "      <th>57556</th>\n",
       "      <td>2018</td>\n",
       "      <td>Q4</td>\n",
       "      <td>Nigeria</td>\n",
       "      <td>1-3  nights</td>\n",
       "      <td>Air</td>\n",
       "      <td>VFR</td>\n",
       "      <td>LONDON</td>\n",
       "      <td>0.499650</td>\n",
       "      <td>0.164210</td>\n",
       "      <td>1.485258</td>\n",
       "      <td>1</td>\n",
       "    </tr>\n",
       "    <tr>\n",
       "      <th>57557</th>\n",
       "      <td>2018</td>\n",
       "      <td>Q4</td>\n",
       "      <td>Nigeria</td>\n",
       "      <td>1-3  nights</td>\n",
       "      <td>Air</td>\n",
       "      <td>Miscellaneous</td>\n",
       "      <td>LONDON</td>\n",
       "      <td>1.982350</td>\n",
       "      <td>1.625054</td>\n",
       "      <td>7.087967</td>\n",
       "      <td>2</td>\n",
       "    </tr>\n",
       "    <tr>\n",
       "      <th>57558</th>\n",
       "      <td>2018</td>\n",
       "      <td>Q4</td>\n",
       "      <td>Nigeria</td>\n",
       "      <td>4-7  nights</td>\n",
       "      <td>Air</td>\n",
       "      <td>Holiday</td>\n",
       "      <td>LONDON</td>\n",
       "      <td>2.012225</td>\n",
       "      <td>11.074011</td>\n",
       "      <td>11.927758</td>\n",
       "      <td>4</td>\n",
       "    </tr>\n",
       "    <tr>\n",
       "      <th>57559</th>\n",
       "      <td>2018</td>\n",
       "      <td>Q4</td>\n",
       "      <td>Nigeria</td>\n",
       "      <td>4-7  nights</td>\n",
       "      <td>Air</td>\n",
       "      <td>Business</td>\n",
       "      <td>LONDON</td>\n",
       "      <td>2.090527</td>\n",
       "      <td>3.435048</td>\n",
       "      <td>10.315442</td>\n",
       "      <td>4</td>\n",
       "    </tr>\n",
       "    <tr>\n",
       "      <th>57560</th>\n",
       "      <td>2018</td>\n",
       "      <td>Q4</td>\n",
       "      <td>Nigeria</td>\n",
       "      <td>4-7  nights</td>\n",
       "      <td>Air</td>\n",
       "      <td>VFR</td>\n",
       "      <td>LONDON</td>\n",
       "      <td>0.499650</td>\n",
       "      <td>1.248613</td>\n",
       "      <td>1.980343</td>\n",
       "      <td>1</td>\n",
       "    </tr>\n",
       "    <tr>\n",
       "      <th>57561</th>\n",
       "      <td>2018</td>\n",
       "      <td>Q4</td>\n",
       "      <td>Nigeria</td>\n",
       "      <td>8-14 nights</td>\n",
       "      <td>Air</td>\n",
       "      <td>Holiday</td>\n",
       "      <td>LONDON</td>\n",
       "      <td>1.300802</td>\n",
       "      <td>1.118594</td>\n",
       "      <td>14.713688</td>\n",
       "      <td>2</td>\n",
       "    </tr>\n",
       "    <tr>\n",
       "      <th>57562</th>\n",
       "      <td>2018</td>\n",
       "      <td>Q4</td>\n",
       "      <td>Nigeria</td>\n",
       "      <td>8-14 nights</td>\n",
       "      <td>Air</td>\n",
       "      <td>Business</td>\n",
       "      <td>LONDON</td>\n",
       "      <td>1.112484</td>\n",
       "      <td>1.130202</td>\n",
       "      <td>9.952606</td>\n",
       "      <td>1</td>\n",
       "    </tr>\n",
       "    <tr>\n",
       "      <th>57563</th>\n",
       "      <td>2018</td>\n",
       "      <td>Q4</td>\n",
       "      <td>Nigeria</td>\n",
       "      <td>8-14 nights</td>\n",
       "      <td>Air</td>\n",
       "      <td>VFR</td>\n",
       "      <td>LONDON</td>\n",
       "      <td>1.255703</td>\n",
       "      <td>4.751338</td>\n",
       "      <td>11.198088</td>\n",
       "      <td>1</td>\n",
       "    </tr>\n",
       "    <tr>\n",
       "      <th>57564</th>\n",
       "      <td>2018</td>\n",
       "      <td>Q4</td>\n",
       "      <td>Nigeria</td>\n",
       "      <td>15+  nights</td>\n",
       "      <td>Air</td>\n",
       "      <td>Holiday</td>\n",
       "      <td>LONDON</td>\n",
       "      <td>2.166666</td>\n",
       "      <td>5.425586</td>\n",
       "      <td>44.084642</td>\n",
       "      <td>5</td>\n",
       "    </tr>\n",
       "    <tr>\n",
       "      <th>57565</th>\n",
       "      <td>2018</td>\n",
       "      <td>Q4</td>\n",
       "      <td>Nigeria</td>\n",
       "      <td>15+  nights</td>\n",
       "      <td>Air</td>\n",
       "      <td>Business</td>\n",
       "      <td>LONDON</td>\n",
       "      <td>0.985186</td>\n",
       "      <td>1.404178</td>\n",
       "      <td>19.751361</td>\n",
       "      <td>2</td>\n",
       "    </tr>\n",
       "    <tr>\n",
       "      <th>57566</th>\n",
       "      <td>2018</td>\n",
       "      <td>Q4</td>\n",
       "      <td>Nigeria</td>\n",
       "      <td>15+  nights</td>\n",
       "      <td>Air</td>\n",
       "      <td>VFR</td>\n",
       "      <td>LONDON</td>\n",
       "      <td>0.512551</td>\n",
       "      <td>3.187826</td>\n",
       "      <td>30.979980</td>\n",
       "      <td>1</td>\n",
       "    </tr>\n",
       "    <tr>\n",
       "      <th>57567</th>\n",
       "      <td>2018</td>\n",
       "      <td>Q4</td>\n",
       "      <td>Kenya</td>\n",
       "      <td>1-3  nights</td>\n",
       "      <td>Air</td>\n",
       "      <td>Business</td>\n",
       "      <td>LONDON</td>\n",
       "      <td>0.889744</td>\n",
       "      <td>0.013346</td>\n",
       "      <td>2.669232</td>\n",
       "      <td>1</td>\n",
       "    </tr>\n",
       "    <tr>\n",
       "      <th>57568</th>\n",
       "      <td>2018</td>\n",
       "      <td>Q4</td>\n",
       "      <td>Kenya</td>\n",
       "      <td>1-3  nights</td>\n",
       "      <td>Air</td>\n",
       "      <td>Miscellaneous</td>\n",
       "      <td>LONDON</td>\n",
       "      <td>0.382688</td>\n",
       "      <td>0.044009</td>\n",
       "      <td>0.382688</td>\n",
       "      <td>1</td>\n",
       "    </tr>\n",
       "    <tr>\n",
       "      <th>57569</th>\n",
       "      <td>2018</td>\n",
       "      <td>Q4</td>\n",
       "      <td>Kenya</td>\n",
       "      <td>4-7  nights</td>\n",
       "      <td>Air</td>\n",
       "      <td>VFR</td>\n",
       "      <td>LONDON</td>\n",
       "      <td>1.228029</td>\n",
       "      <td>0.752843</td>\n",
       "      <td>3.920550</td>\n",
       "      <td>2</td>\n",
       "    </tr>\n",
       "    <tr>\n",
       "      <th>57570</th>\n",
       "      <td>2018</td>\n",
       "      <td>Q4</td>\n",
       "      <td>Kenya</td>\n",
       "      <td>8-14 nights</td>\n",
       "      <td>Air</td>\n",
       "      <td>Holiday</td>\n",
       "      <td>LONDON</td>\n",
       "      <td>0.575770</td>\n",
       "      <td>1.160177</td>\n",
       "      <td>8.060780</td>\n",
       "      <td>1</td>\n",
       "    </tr>\n",
       "    <tr>\n",
       "      <th>57571</th>\n",
       "      <td>2018</td>\n",
       "      <td>Q4</td>\n",
       "      <td>Kenya</td>\n",
       "      <td>8-14 nights</td>\n",
       "      <td>Air</td>\n",
       "      <td>VFR</td>\n",
       "      <td>LONDON</td>\n",
       "      <td>0.575770</td>\n",
       "      <td>0.296522</td>\n",
       "      <td>6.333470</td>\n",
       "      <td>1</td>\n",
       "    </tr>\n",
       "    <tr>\n",
       "      <th>57572</th>\n",
       "      <td>2018</td>\n",
       "      <td>Q4</td>\n",
       "      <td>Kenya</td>\n",
       "      <td>15+  nights</td>\n",
       "      <td>Air</td>\n",
       "      <td>Holiday</td>\n",
       "      <td>LONDON</td>\n",
       "      <td>0.588960</td>\n",
       "      <td>1.186754</td>\n",
       "      <td>18.846720</td>\n",
       "      <td>1</td>\n",
       "    </tr>\n",
       "    <tr>\n",
       "      <th>57573</th>\n",
       "      <td>2018</td>\n",
       "      <td>Q4</td>\n",
       "      <td>Kenya</td>\n",
       "      <td>15+  nights</td>\n",
       "      <td>Air</td>\n",
       "      <td>VFR</td>\n",
       "      <td>LONDON</td>\n",
       "      <td>0.382688</td>\n",
       "      <td>0.005740</td>\n",
       "      <td>6.888384</td>\n",
       "      <td>1</td>\n",
       "    </tr>\n",
       "    <tr>\n",
       "      <th>57574</th>\n",
       "      <td>2018</td>\n",
       "      <td>Q4</td>\n",
       "      <td>Other Africa</td>\n",
       "      <td>1-3  nights</td>\n",
       "      <td>Air</td>\n",
       "      <td>Holiday</td>\n",
       "      <td>LONDON</td>\n",
       "      <td>3.595531</td>\n",
       "      <td>0.891767</td>\n",
       "      <td>10.899024</td>\n",
       "      <td>1</td>\n",
       "    </tr>\n",
       "    <tr>\n",
       "      <th>57575</th>\n",
       "      <td>2018</td>\n",
       "      <td>Q4</td>\n",
       "      <td>Other Africa</td>\n",
       "      <td>1-3  nights</td>\n",
       "      <td>Air</td>\n",
       "      <td>Business</td>\n",
       "      <td>LONDON</td>\n",
       "      <td>0.959898</td>\n",
       "      <td>1.499410</td>\n",
       "      <td>2.506638</td>\n",
       "      <td>2</td>\n",
       "    </tr>\n",
       "    <tr>\n",
       "      <th>57576</th>\n",
       "      <td>2018</td>\n",
       "      <td>Q4</td>\n",
       "      <td>Other Africa</td>\n",
       "      <td>1-3  nights</td>\n",
       "      <td>Air</td>\n",
       "      <td>Miscellaneous</td>\n",
       "      <td>LONDON</td>\n",
       "      <td>1.300961</td>\n",
       "      <td>0.065521</td>\n",
       "      <td>1.300961</td>\n",
       "      <td>2</td>\n",
       "    </tr>\n",
       "    <tr>\n",
       "      <th>57577</th>\n",
       "      <td>2018</td>\n",
       "      <td>Q4</td>\n",
       "      <td>Other Africa</td>\n",
       "      <td>4-7  nights</td>\n",
       "      <td>Air</td>\n",
       "      <td>Holiday</td>\n",
       "      <td>LONDON</td>\n",
       "      <td>1.055347</td>\n",
       "      <td>1.958851</td>\n",
       "      <td>7.464431</td>\n",
       "      <td>1</td>\n",
       "    </tr>\n",
       "    <tr>\n",
       "      <th>57578</th>\n",
       "      <td>2018</td>\n",
       "      <td>Q4</td>\n",
       "      <td>Other Africa</td>\n",
       "      <td>4-7  nights</td>\n",
       "      <td>Air</td>\n",
       "      <td>Business</td>\n",
       "      <td>LONDON</td>\n",
       "      <td>1.502787</td>\n",
       "      <td>2.249243</td>\n",
       "      <td>6.111861</td>\n",
       "      <td>2</td>\n",
       "    </tr>\n",
       "    <tr>\n",
       "      <th>57579</th>\n",
       "      <td>2018</td>\n",
       "      <td>Q4</td>\n",
       "      <td>Other Africa</td>\n",
       "      <td>4-7  nights</td>\n",
       "      <td>Air</td>\n",
       "      <td>VFR</td>\n",
       "      <td>LONDON</td>\n",
       "      <td>1.065775</td>\n",
       "      <td>0.493956</td>\n",
       "      <td>5.361469</td>\n",
       "      <td>2</td>\n",
       "    </tr>\n",
       "    <tr>\n",
       "      <th>57580</th>\n",
       "      <td>2018</td>\n",
       "      <td>Q4</td>\n",
       "      <td>Other Africa</td>\n",
       "      <td>8-14 nights</td>\n",
       "      <td>Air</td>\n",
       "      <td>Holiday</td>\n",
       "      <td>LONDON</td>\n",
       "      <td>1.729810</td>\n",
       "      <td>1.215757</td>\n",
       "      <td>10.488320</td>\n",
       "      <td>3</td>\n",
       "    </tr>\n",
       "    <tr>\n",
       "      <th>57581</th>\n",
       "      <td>2018</td>\n",
       "      <td>Q4</td>\n",
       "      <td>Other Africa</td>\n",
       "      <td>8-14 nights</td>\n",
       "      <td>Air</td>\n",
       "      <td>Business</td>\n",
       "      <td>LONDON</td>\n",
       "      <td>0.382688</td>\n",
       "      <td>1.153804</td>\n",
       "      <td>5.357632</td>\n",
       "      <td>1</td>\n",
       "    </tr>\n",
       "    <tr>\n",
       "      <th>57582</th>\n",
       "      <td>2018</td>\n",
       "      <td>Q4</td>\n",
       "      <td>Other Africa</td>\n",
       "      <td>8-14 nights</td>\n",
       "      <td>Air</td>\n",
       "      <td>VFR</td>\n",
       "      <td>LONDON</td>\n",
       "      <td>0.765376</td>\n",
       "      <td>0.768438</td>\n",
       "      <td>8.036448</td>\n",
       "      <td>2</td>\n",
       "    </tr>\n",
       "    <tr>\n",
       "      <th>57583</th>\n",
       "      <td>2018</td>\n",
       "      <td>Q4</td>\n",
       "      <td>Other Africa</td>\n",
       "      <td>15+  nights</td>\n",
       "      <td>Air</td>\n",
       "      <td>Business</td>\n",
       "      <td>LONDON</td>\n",
       "      <td>0.997753</td>\n",
       "      <td>0.912944</td>\n",
       "      <td>14.966295</td>\n",
       "      <td>1</td>\n",
       "    </tr>\n",
       "    <tr>\n",
       "      <th>57584</th>\n",
       "      <td>2018</td>\n",
       "      <td>Q4</td>\n",
       "      <td>Other Africa</td>\n",
       "      <td>15+  nights</td>\n",
       "      <td>Air</td>\n",
       "      <td>VFR</td>\n",
       "      <td>LONDON</td>\n",
       "      <td>2.173573</td>\n",
       "      <td>1.828906</td>\n",
       "      <td>68.071984</td>\n",
       "      <td>3</td>\n",
       "    </tr>\n",
       "  </tbody>\n",
       "</table>\n",
       "<p>57585 rows × 11 columns</p>\n",
       "</div>"
      ],
      "text/plain": [
       "       year quarter        market     dur_stay    mode        purpose  \\\n",
       "0      2002      Q1       Belgium  1-3  nights     Air        Holiday   \n",
       "1      2002      Q1       Belgium  1-3  nights     Air       Business   \n",
       "2      2002      Q1       Belgium  1-3  nights     Air            VFR   \n",
       "3      2002      Q1       Belgium  1-3  nights     Air  Miscellaneous   \n",
       "4      2002      Q1       Belgium  1-3  nights     Sea       Business   \n",
       "5      2002      Q1       Belgium  1-3  nights     Sea  Miscellaneous   \n",
       "6      2002      Q1       Belgium  1-3  nights  Tunnel        Holiday   \n",
       "7      2002      Q1       Belgium  1-3  nights  Tunnel       Business   \n",
       "8      2002      Q1       Belgium  1-3  nights  Tunnel            VFR   \n",
       "9      2002      Q1       Belgium  1-3  nights  Tunnel  Miscellaneous   \n",
       "10     2002      Q1       Belgium  4-7  nights     Air       Business   \n",
       "11     2002      Q1       Belgium  4-7  nights     Air            VFR   \n",
       "12     2002      Q1       Belgium  4-7  nights  Tunnel        Holiday   \n",
       "13     2002      Q1       Belgium  4-7  nights  Tunnel       Business   \n",
       "14     2002      Q1       Belgium  4-7  nights  Tunnel            VFR   \n",
       "15     2002      Q1       Belgium  4-7  nights  Tunnel  Miscellaneous   \n",
       "16     2002      Q1       Belgium  8-14 nights     Air        Holiday   \n",
       "17     2002      Q1       Belgium  8-14 nights     Air            VFR   \n",
       "18     2002      Q1       Belgium  8-14 nights  Tunnel        Holiday   \n",
       "19     2002      Q1       Belgium  8-14 nights  Tunnel            VFR   \n",
       "20     2002      Q1       Belgium  8-14 nights  Tunnel  Miscellaneous   \n",
       "21     2002      Q1       Belgium  15+  nights     Air            VFR   \n",
       "22     2002      Q1    Luxembourg  1-3  nights     Air        Holiday   \n",
       "23     2002      Q1    Luxembourg  1-3  nights     Air            VFR   \n",
       "24     2002      Q1    Luxembourg  1-3  nights     Air  Miscellaneous   \n",
       "25     2002      Q1    Luxembourg  1-3  nights  Tunnel  Miscellaneous   \n",
       "26     2002      Q1    Luxembourg  4-7  nights  Tunnel        Holiday   \n",
       "27     2002      Q1    Luxembourg  15+  nights  Tunnel        Holiday   \n",
       "28     2002      Q1        France  1-3  nights     Air        Holiday   \n",
       "29     2002      Q1        France  1-3  nights     Air       Business   \n",
       "...     ...     ...           ...          ...     ...            ...   \n",
       "57555  2018      Q4       Nigeria  1-3  nights     Air        Holiday   \n",
       "57556  2018      Q4       Nigeria  1-3  nights     Air            VFR   \n",
       "57557  2018      Q4       Nigeria  1-3  nights     Air  Miscellaneous   \n",
       "57558  2018      Q4       Nigeria  4-7  nights     Air        Holiday   \n",
       "57559  2018      Q4       Nigeria  4-7  nights     Air       Business   \n",
       "57560  2018      Q4       Nigeria  4-7  nights     Air            VFR   \n",
       "57561  2018      Q4       Nigeria  8-14 nights     Air        Holiday   \n",
       "57562  2018      Q4       Nigeria  8-14 nights     Air       Business   \n",
       "57563  2018      Q4       Nigeria  8-14 nights     Air            VFR   \n",
       "57564  2018      Q4       Nigeria  15+  nights     Air        Holiday   \n",
       "57565  2018      Q4       Nigeria  15+  nights     Air       Business   \n",
       "57566  2018      Q4       Nigeria  15+  nights     Air            VFR   \n",
       "57567  2018      Q4         Kenya  1-3  nights     Air       Business   \n",
       "57568  2018      Q4         Kenya  1-3  nights     Air  Miscellaneous   \n",
       "57569  2018      Q4         Kenya  4-7  nights     Air            VFR   \n",
       "57570  2018      Q4         Kenya  8-14 nights     Air        Holiday   \n",
       "57571  2018      Q4         Kenya  8-14 nights     Air            VFR   \n",
       "57572  2018      Q4         Kenya  15+  nights     Air        Holiday   \n",
       "57573  2018      Q4         Kenya  15+  nights     Air            VFR   \n",
       "57574  2018      Q4  Other Africa  1-3  nights     Air        Holiday   \n",
       "57575  2018      Q4  Other Africa  1-3  nights     Air       Business   \n",
       "57576  2018      Q4  Other Africa  1-3  nights     Air  Miscellaneous   \n",
       "57577  2018      Q4  Other Africa  4-7  nights     Air        Holiday   \n",
       "57578  2018      Q4  Other Africa  4-7  nights     Air       Business   \n",
       "57579  2018      Q4  Other Africa  4-7  nights     Air            VFR   \n",
       "57580  2018      Q4  Other Africa  8-14 nights     Air        Holiday   \n",
       "57581  2018      Q4  Other Africa  8-14 nights     Air       Business   \n",
       "57582  2018      Q4  Other Africa  8-14 nights     Air            VFR   \n",
       "57583  2018      Q4  Other Africa  15+  nights     Air       Business   \n",
       "57584  2018      Q4  Other Africa  15+  nights     Air            VFR   \n",
       "\n",
       "          area     visits      spend     nights  sample  \n",
       "0       LONDON   3.572186   0.969138   6.954456       5  \n",
       "1       LONDON   9.284226   2.399577  12.604959      19  \n",
       "2       LONDON   0.877182   0.089833   2.153128       3  \n",
       "3       LONDON   0.163874   0.010160   0.163874       1  \n",
       "4       LONDON   1.648670   0.016789   1.650300       1  \n",
       "5       LONDON   0.590807   0.003953   1.772420       1  \n",
       "6       LONDON  10.940251   2.765473  23.242688      30  \n",
       "7       LONDON   6.052632   1.446697  10.428555      16  \n",
       "8       LONDON   5.559403   0.468140   9.441416      13  \n",
       "9       LONDON   0.704948   0.465721   1.409894       2  \n",
       "10      LONDON   0.479947   0.102486   3.357790       1  \n",
       "11      LONDON   0.158462   0.017748   1.109230       1  \n",
       "12      LONDON   2.277937   1.031108   9.547630       6  \n",
       "13      LONDON   1.161690   0.176559   3.850700       3  \n",
       "14      LONDON   1.063328   0.328267   4.653940       3  \n",
       "15      LONDON   0.352474   0.009902   2.467320       1  \n",
       "16      LONDON   0.528879   0.066925   1.585210       1  \n",
       "17      LONDON   0.324765   0.145170   3.247650       1  \n",
       "18      LONDON   0.415971   0.125145   4.411000       1  \n",
       "19      LONDON   0.797496   0.171898   5.653960       2  \n",
       "20      LONDON   0.400707   0.000000   5.209190       1  \n",
       "21      LONDON   3.279740   1.679230  49.196098       1  \n",
       "22      LONDON   0.137850   0.024629   0.413550       1  \n",
       "23      LONDON   0.239208   0.014831   0.478416       1  \n",
       "24      LONDON   0.388713   0.160150   0.777426       1  \n",
       "25      LONDON   0.500884   0.252194   0.500884       1  \n",
       "26      LONDON   2.217730   0.447155   8.870940       1  \n",
       "27      LONDON   0.500884   0.176536   7.513260       1  \n",
       "28      LONDON  10.967136   3.472965  21.842510      11  \n",
       "29      LONDON  32.078309  14.893142  52.825806      43  \n",
       "...        ...        ...        ...        ...     ...  \n",
       "57555   LONDON   0.830270   0.988101   2.026663       2  \n",
       "57556   LONDON   0.499650   0.164210   1.485258       1  \n",
       "57557   LONDON   1.982350   1.625054   7.087967       2  \n",
       "57558   LONDON   2.012225  11.074011  11.927758       4  \n",
       "57559   LONDON   2.090527   3.435048  10.315442       4  \n",
       "57560   LONDON   0.499650   1.248613   1.980343       1  \n",
       "57561   LONDON   1.300802   1.118594  14.713688       2  \n",
       "57562   LONDON   1.112484   1.130202   9.952606       1  \n",
       "57563   LONDON   1.255703   4.751338  11.198088       1  \n",
       "57564   LONDON   2.166666   5.425586  44.084642       5  \n",
       "57565   LONDON   0.985186   1.404178  19.751361       2  \n",
       "57566   LONDON   0.512551   3.187826  30.979980       1  \n",
       "57567   LONDON   0.889744   0.013346   2.669232       1  \n",
       "57568   LONDON   0.382688   0.044009   0.382688       1  \n",
       "57569   LONDON   1.228029   0.752843   3.920550       2  \n",
       "57570   LONDON   0.575770   1.160177   8.060780       1  \n",
       "57571   LONDON   0.575770   0.296522   6.333470       1  \n",
       "57572   LONDON   0.588960   1.186754  18.846720       1  \n",
       "57573   LONDON   0.382688   0.005740   6.888384       1  \n",
       "57574   LONDON   3.595531   0.891767  10.899024       1  \n",
       "57575   LONDON   0.959898   1.499410   2.506638       2  \n",
       "57576   LONDON   1.300961   0.065521   1.300961       2  \n",
       "57577   LONDON   1.055347   1.958851   7.464431       1  \n",
       "57578   LONDON   1.502787   2.249243   6.111861       2  \n",
       "57579   LONDON   1.065775   0.493956   5.361469       2  \n",
       "57580   LONDON   1.729810   1.215757  10.488320       3  \n",
       "57581   LONDON   0.382688   1.153804   5.357632       1  \n",
       "57582   LONDON   0.765376   0.768438   8.036448       2  \n",
       "57583   LONDON   0.997753   0.912944  14.966295       1  \n",
       "57584   LONDON   2.173573   1.828906  68.071984       3  \n",
       "\n",
       "[57585 rows x 11 columns]"
      ]
     },
     "execution_count": 18,
     "metadata": {},
     "output_type": "execute_result"
    }
   ],
   "source": [
    "import pandas as pd\n",
    "import numpy as np\n",
    "url = \"https://data.london.gov.uk/download/number-international-visitors-london/b1e0f953-4c8a-4b45-95f5-e0d143d5641e/international-visitors-london-raw.csv\"\n",
    "df_london = pd.read_csv(url)\n",
    "df_london"
   ]
  },
  {
   "cell_type": "code",
   "execution_count": 28,
   "metadata": {},
   "outputs": [
    {
     "data": {
      "application/vnd.jupyter.widget-view+json": {
       "model_id": "f5272b862c6541f1a7c8f8292b476335",
       "version_major": 2,
       "version_minor": 0
      },
      "text/plain": [
       "Dropdown(options=('ALL', 2002, 2003, 2004, 2005, 2006, 2007, 2008, 2009, 2010, 2011, 2012, 2013, 2014, 2015, 2…"
      ]
     },
     "metadata": {},
     "output_type": "display_data"
    }
   ],
   "source": [
    "ALL = 'ALL'\n",
    "def unique_sorted_values_plus_ALL(array):\n",
    "    unique = array.unique().tolist()\n",
    "    unique.sort()\n",
    "    unique.insert(0, ALL)\n",
    "    return unique\n",
    "\n",
    "dropdown_year = widgets.Dropdown(options = unique_sorted_values_plus_ALL(df_london.year))\n",
    "\n",
    "output_year = widgets.Output()\n",
    "\n",
    "def dropdown_year_eventhandler(change):\n",
    "    output_year.clear_output()\n",
    "    with output_year:\n",
    "        if (change.new == ALL):\n",
    "            display(df_london)\n",
    "        else:\n",
    "            display(df_london[df_london.year == change.new])\n",
    "        \n",
    "dropdown_year.observe(dropdown_year_eventhandler, names='value')\n",
    "\n",
    "display(dropdown_year)"
   ]
  },
  {
   "cell_type": "code",
   "execution_count": 29,
   "metadata": {},
   "outputs": [
    {
     "data": {
      "application/vnd.jupyter.widget-view+json": {
       "model_id": "a80aaa0c640b48b89a18ddfbe8643bf3",
       "version_major": 2,
       "version_minor": 0
      },
      "text/plain": [
       "Output(outputs=({'output_type': 'display_data', 'data': {'text/plain': '      year quarter        market     d…"
      ]
     },
     "metadata": {},
     "output_type": "display_data"
    }
   ],
   "source": [
    "display(output_year)"
   ]
  },
  {
   "cell_type": "code",
   "execution_count": 17,
   "metadata": {},
   "outputs": [
    {
     "data": {
      "application/vnd.plotly.v1+json": {
       "config": {
        "plotlyServerURL": "https://plot.ly"
       },
       "data": [
        {
         "dimensions": [
          {
           "axis": {
            "matches": true
           },
           "label": "beer_servings",
           "values": [
            0,
            42,
            0,
            23,
            31,
            57,
            79,
            0,
            9,
            5,
            0,
            9,
            63,
            77,
            6,
            124,
            0,
            31,
            62,
            20,
            13,
            0,
            77,
            5,
            5,
            22,
            0,
            71,
            1,
            140,
            247,
            0,
            60,
            16,
            5,
            2,
            99,
            1,
            51,
            19,
            16,
            25,
            111,
            6
           ]
          },
          {
           "axis": {
            "matches": true
           },
           "label": "spirit_servings",
           "values": [
            0,
            63,
            0,
            0,
            2,
            65,
            192,
            0,
            114,
            1,
            0,
            3,
            69,
            202,
            21,
            246,
            0,
            97,
            0,
            55,
            4,
            0,
            189,
            1,
            6,
            16,
            0,
            186,
            42,
            16,
            326,
            5,
            12,
            104,
            35,
            15,
            258,
            1,
            22,
            71,
            135,
            101,
            2,
            0
           ]
          },
          {
           "axis": {
            "matches": true
           },
           "label": "wine_servings",
           "values": [
            0,
            7,
            0,
            0,
            1,
            1,
            8,
            0,
            0,
            0,
            0,
            0,
            9,
            16,
            1,
            12,
            0,
            6,
            123,
            31,
            0,
            0,
            8,
            0,
            0,
            1,
            0,
            1,
            7,
            9,
            73,
            0,
            11,
            0,
            16,
            0,
            1,
            4,
            7,
            32,
            5,
            8,
            1,
            0
           ]
          },
          {
           "axis": {
            "matches": true
           },
           "label": "continent",
           "values": [
            "Asia",
            "Asia",
            "Asia",
            "Asia",
            "Asia",
            "Asia",
            "Asia",
            "Asia",
            "Asia",
            "Asia",
            "Asia",
            "Asia",
            "Asia",
            "Asia",
            "Asia",
            "Asia",
            "Asia",
            "Asia",
            "Asia",
            "Asia",
            "Asia",
            "Asia",
            "Asia",
            "Asia",
            "Asia",
            "Asia",
            "Asia",
            "Asia",
            "Asia",
            "Asia",
            "Asia",
            "Asia",
            "Asia",
            "Asia",
            "Asia",
            "Asia",
            "Asia",
            "Asia",
            "Asia",
            "Asia",
            "Asia",
            "Asia",
            "Asia",
            "Asia"
           ]
          }
         ],
         "hoverlabel": {
          "namelength": 0
         },
         "hovertemplate": "continent=Asia<br>%{xaxis.title.text}=%{x}<br>%{yaxis.title.text}=%{y}",
         "legendgroup": "continent=Asia",
         "marker": {
          "color": "#636efa",
          "symbol": "circle"
         },
         "name": "continent=Asia",
         "showlegend": true,
         "type": "splom"
        },
        {
         "dimensions": [
          {
           "axis": {
            "matches": true
           },
           "label": "beer_servings",
           "values": [
            89,
            245,
            21,
            279,
            21,
            142,
            295,
            76,
            231,
            230,
            192,
            361,
            224,
            224,
            263,
            127,
            52,
            346,
            133,
            234,
            233,
            313,
            85,
            281,
            343,
            236,
            149,
            0,
            31,
            251,
            169,
            343,
            194,
            109,
            297,
            0,
            283,
            196,
            270,
            284,
            152,
            185,
            106,
            206,
            219
           ]
          },
          {
           "axis": {
            "matches": true
           },
           "label": "spirit_servings",
           "values": [
            132,
            138,
            179,
            75,
            46,
            373,
            84,
            173,
            252,
            87,
            154,
            170,
            81,
            194,
            133,
            151,
            100,
            117,
            112,
            215,
            61,
            118,
            42,
            216,
            244,
            133,
            100,
            0,
            114,
            88,
            71,
            215,
            67,
            226,
            122,
            0,
            131,
            293,
            51,
            157,
            60,
            100,
            27,
            237,
            126
           ]
          },
          {
           "axis": {
            "matches": true
           },
           "label": "wine_servings",
           "values": [
            54,
            312,
            11,
            191,
            5,
            42,
            212,
            8,
            94,
            254,
            113,
            134,
            278,
            59,
            97,
            370,
            149,
            175,
            218,
            185,
            78,
            165,
            237,
            62,
            56,
            271,
            120,
            0,
            128,
            190,
            129,
            56,
            339,
            18,
            167,
            0,
            127,
            116,
            276,
            112,
            186,
            280,
            86,
            45,
            195
           ]
          },
          {
           "axis": {
            "matches": true
           },
           "label": "continent",
           "values": [
            "Europe",
            "Europe",
            "Europe",
            "Europe",
            "Europe",
            "Europe",
            "Europe",
            "Europe",
            "Europe",
            "Europe",
            "Europe",
            "Europe",
            "Europe",
            "Europe",
            "Europe",
            "Europe",
            "Europe",
            "Europe",
            "Europe",
            "Europe",
            "Europe",
            "Europe",
            "Europe",
            "Europe",
            "Europe",
            "Europe",
            "Europe",
            "Europe",
            "Europe",
            "Europe",
            "Europe",
            "Europe",
            "Europe",
            "Europe",
            "Europe",
            "Europe",
            "Europe",
            "Europe",
            "Europe",
            "Europe",
            "Europe",
            "Europe",
            "Europe",
            "Europe",
            "Europe"
           ]
          }
         ],
         "hoverlabel": {
          "namelength": 0
         },
         "hovertemplate": "continent=Europe<br>%{xaxis.title.text}=%{x}<br>%{yaxis.title.text}=%{y}",
         "legendgroup": "continent=Europe",
         "marker": {
          "color": "#EF553B",
          "symbol": "circle"
         },
         "name": "continent=Europe",
         "showlegend": true,
         "type": "splom"
        },
        {
         "dimensions": [
          {
           "axis": {
            "matches": true
           },
           "label": "beer_servings",
           "values": [
            25,
            217,
            34,
            173,
            25,
            88,
            37,
            144,
            147,
            17,
            15,
            1,
            76,
            32,
            15,
            6,
            92,
            18,
            20,
            347,
            8,
            31,
            9,
            28,
            58,
            82,
            19,
            0,
            26,
            8,
            5,
            0,
            98,
            12,
            47,
            376,
            3,
            42,
            43,
            56,
            9,
            157,
            25,
            0,
            225,
            8,
            90,
            36,
            51,
            45,
            36,
            32,
            64
           ]
          },
          {
           "axis": {
            "matches": true
           },
           "label": "spirit_servings",
           "values": [
            0,
            57,
            4,
            35,
            7,
            0,
            1,
            56,
            1,
            2,
            1,
            3,
            1,
            3,
            44,
            4,
            0,
            0,
            3,
            98,
            0,
            3,
            0,
            31,
            22,
            29,
            152,
            0,
            15,
            11,
            1,
            0,
            31,
            6,
            18,
            3,
            2,
            5,
            2,
            38,
            1,
            25,
            3,
            0,
            76,
            13,
            2,
            2,
            3,
            9,
            6,
            19,
            18
           ]
          },
          {
           "axis": {
            "matches": true
           },
           "label": "wine_servings",
           "values": [
            14,
            45,
            13,
            35,
            7,
            0,
            7,
            16,
            4,
            1,
            1,
            1,
            9,
            1,
            3,
            1,
            233,
            0,
            0,
            59,
            1,
            10,
            2,
            21,
            2,
            0,
            2,
            0,
            4,
            1,
            1,
            0,
            18,
            10,
            5,
            1,
            1,
            2,
            0,
            140,
            7,
            51,
            2,
            0,
            81,
            0,
            2,
            19,
            20,
            0,
            1,
            4,
            4
           ]
          },
          {
           "axis": {
            "matches": true
           },
           "label": "continent",
           "values": [
            "Africa",
            "Africa",
            "Africa",
            "Africa",
            "Africa",
            "Africa",
            "Africa",
            "Africa",
            "Africa",
            "Africa",
            "Africa",
            "Africa",
            "Africa",
            "Africa",
            "Africa",
            "Africa",
            "Africa",
            "Africa",
            "Africa",
            "Africa",
            "Africa",
            "Africa",
            "Africa",
            "Africa",
            "Africa",
            "Africa",
            "Africa",
            "Africa",
            "Africa",
            "Africa",
            "Africa",
            "Africa",
            "Africa",
            "Africa",
            "Africa",
            "Africa",
            "Africa",
            "Africa",
            "Africa",
            "Africa",
            "Africa",
            "Africa",
            "Africa",
            "Africa",
            "Africa",
            "Africa",
            "Africa",
            "Africa",
            "Africa",
            "Africa",
            "Africa",
            "Africa",
            "Africa"
           ]
          }
         ],
         "hoverlabel": {
          "namelength": 0
         },
         "hovertemplate": "continent=Africa<br>%{xaxis.title.text}=%{x}<br>%{yaxis.title.text}=%{y}",
         "legendgroup": "continent=Africa",
         "marker": {
          "color": "#00cc96",
          "symbol": "circle"
         },
         "name": "continent=Africa",
         "showlegend": true,
         "type": "splom"
        },
        {
         "dimensions": [
          {
           "axis": {
            "matches": true
           },
           "label": "beer_servings",
           "values": [
            102,
            122,
            143,
            263,
            240,
            149,
            93,
            52,
            193,
            52,
            199,
            53,
            1,
            69,
            82,
            238,
            78,
            285,
            194,
            171,
            120,
            197,
            249
           ]
          },
          {
           "axis": {
            "matches": true
           },
           "label": "spirit_servings",
           "values": [
            128,
            176,
            173,
            114,
            122,
            87,
            137,
            286,
            147,
            69,
            438,
            69,
            326,
            98,
            97,
            68,
            118,
            104,
            205,
            315,
            221,
            156,
            158
           ]
          },
          {
           "axis": {
            "matches": true
           },
           "label": "wine_servings",
           "values": [
            45,
            51,
            36,
            8,
            100,
            11,
            5,
            26,
            9,
            2,
            28,
            2,
            1,
            2,
            9,
            5,
            1,
            18,
            32,
            71,
            11,
            7,
            84
           ]
          },
          {
           "axis": {
            "matches": true
           },
           "label": "continent",
           "values": [
            "North America",
            "North America",
            "North America",
            "North America",
            "North America",
            "North America",
            "North America",
            "North America",
            "North America",
            "North America",
            "North America",
            "North America",
            "North America",
            "North America",
            "North America",
            "North America",
            "North America",
            "North America",
            "North America",
            "North America",
            "North America",
            "North America",
            "North America"
           ]
          }
         ],
         "hoverlabel": {
          "namelength": 0
         },
         "hovertemplate": "continent=North America<br>%{xaxis.title.text}=%{x}<br>%{yaxis.title.text}=%{y}",
         "legendgroup": "continent=North America",
         "marker": {
          "color": "#ab63fa",
          "symbol": "circle"
         },
         "name": "continent=North America",
         "showlegend": true,
         "type": "splom"
        },
        {
         "dimensions": [
          {
           "axis": {
            "matches": true
           },
           "label": "beer_servings",
           "values": [
            193,
            167,
            245,
            130,
            159,
            162,
            93,
            213,
            163,
            128,
            115,
            333
           ]
          },
          {
           "axis": {
            "matches": true
           },
           "label": "spirit_servings",
           "values": [
            25,
            41,
            145,
            124,
            76,
            74,
            302,
            117,
            160,
            178,
            35,
            100
           ]
          },
          {
           "axis": {
            "matches": true
           },
           "label": "wine_servings",
           "values": [
            221,
            8,
            16,
            172,
            3,
            3,
            1,
            74,
            21,
            7,
            220,
            3
           ]
          },
          {
           "axis": {
            "matches": true
           },
           "label": "continent",
           "values": [
            "South America",
            "South America",
            "South America",
            "South America",
            "South America",
            "South America",
            "South America",
            "South America",
            "South America",
            "South America",
            "South America",
            "South America"
           ]
          }
         ],
         "hoverlabel": {
          "namelength": 0
         },
         "hovertemplate": "continent=South America<br>%{xaxis.title.text}=%{x}<br>%{yaxis.title.text}=%{y}",
         "legendgroup": "continent=South America",
         "marker": {
          "color": "#FFA15A",
          "symbol": "circle"
         },
         "name": "continent=South America",
         "showlegend": true,
         "type": "splom"
        },
        {
         "dimensions": [
          {
           "axis": {
            "matches": true
           },
           "label": "beer_servings",
           "values": [
            261,
            0,
            77,
            21,
            0,
            62,
            49,
            203,
            188,
            306,
            44,
            105,
            56,
            36,
            6,
            21
           ]
          },
          {
           "axis": {
            "matches": true
           },
           "label": "spirit_servings",
           "values": [
            72,
            254,
            35,
            34,
            0,
            50,
            0,
            79,
            200,
            63,
            39,
            18,
            11,
            21,
            41,
            18
           ]
          },
          {
           "axis": {
            "matches": true
           },
           "label": "wine_servings",
           "values": [
            212,
            74,
            1,
            1,
            0,
            18,
            8,
            175,
            7,
            23,
            1,
            24,
            1,
            5,
            9,
            11
           ]
          },
          {
           "axis": {
            "matches": true
           },
           "label": "continent",
           "values": [
            "Oceania",
            "Oceania",
            "Oceania",
            "Oceania",
            "Oceania",
            "Oceania",
            "Oceania",
            "Oceania",
            "Oceania",
            "Oceania",
            "Oceania",
            "Oceania",
            "Oceania",
            "Oceania",
            "Oceania",
            "Oceania"
           ]
          }
         ],
         "hoverlabel": {
          "namelength": 0
         },
         "hovertemplate": "continent=Oceania<br>%{xaxis.title.text}=%{x}<br>%{yaxis.title.text}=%{y}",
         "legendgroup": "continent=Oceania",
         "marker": {
          "color": "#19d3f3",
          "symbol": "circle"
         },
         "name": "continent=Oceania",
         "showlegend": true,
         "type": "splom"
        }
       ],
       "layout": {
        "dragmode": "select",
        "height": 600,
        "legend": {
         "tracegroupgap": 0
        },
        "margin": {
         "t": 60
        },
        "template": {
         "data": {
          "bar": [
           {
            "error_x": {
             "color": "#2a3f5f"
            },
            "error_y": {
             "color": "#2a3f5f"
            },
            "marker": {
             "line": {
              "color": "#E5ECF6",
              "width": 0.5
             }
            },
            "type": "bar"
           }
          ],
          "barpolar": [
           {
            "marker": {
             "line": {
              "color": "#E5ECF6",
              "width": 0.5
             }
            },
            "type": "barpolar"
           }
          ],
          "carpet": [
           {
            "aaxis": {
             "endlinecolor": "#2a3f5f",
             "gridcolor": "white",
             "linecolor": "white",
             "minorgridcolor": "white",
             "startlinecolor": "#2a3f5f"
            },
            "baxis": {
             "endlinecolor": "#2a3f5f",
             "gridcolor": "white",
             "linecolor": "white",
             "minorgridcolor": "white",
             "startlinecolor": "#2a3f5f"
            },
            "type": "carpet"
           }
          ],
          "choropleth": [
           {
            "colorbar": {
             "outlinewidth": 0,
             "ticks": ""
            },
            "type": "choropleth"
           }
          ],
          "contour": [
           {
            "colorbar": {
             "outlinewidth": 0,
             "ticks": ""
            },
            "colorscale": [
             [
              0,
              "#0d0887"
             ],
             [
              0.1111111111111111,
              "#46039f"
             ],
             [
              0.2222222222222222,
              "#7201a8"
             ],
             [
              0.3333333333333333,
              "#9c179e"
             ],
             [
              0.4444444444444444,
              "#bd3786"
             ],
             [
              0.5555555555555556,
              "#d8576b"
             ],
             [
              0.6666666666666666,
              "#ed7953"
             ],
             [
              0.7777777777777778,
              "#fb9f3a"
             ],
             [
              0.8888888888888888,
              "#fdca26"
             ],
             [
              1,
              "#f0f921"
             ]
            ],
            "type": "contour"
           }
          ],
          "contourcarpet": [
           {
            "colorbar": {
             "outlinewidth": 0,
             "ticks": ""
            },
            "type": "contourcarpet"
           }
          ],
          "heatmap": [
           {
            "colorbar": {
             "outlinewidth": 0,
             "ticks": ""
            },
            "colorscale": [
             [
              0,
              "#0d0887"
             ],
             [
              0.1111111111111111,
              "#46039f"
             ],
             [
              0.2222222222222222,
              "#7201a8"
             ],
             [
              0.3333333333333333,
              "#9c179e"
             ],
             [
              0.4444444444444444,
              "#bd3786"
             ],
             [
              0.5555555555555556,
              "#d8576b"
             ],
             [
              0.6666666666666666,
              "#ed7953"
             ],
             [
              0.7777777777777778,
              "#fb9f3a"
             ],
             [
              0.8888888888888888,
              "#fdca26"
             ],
             [
              1,
              "#f0f921"
             ]
            ],
            "type": "heatmap"
           }
          ],
          "heatmapgl": [
           {
            "colorbar": {
             "outlinewidth": 0,
             "ticks": ""
            },
            "colorscale": [
             [
              0,
              "#0d0887"
             ],
             [
              0.1111111111111111,
              "#46039f"
             ],
             [
              0.2222222222222222,
              "#7201a8"
             ],
             [
              0.3333333333333333,
              "#9c179e"
             ],
             [
              0.4444444444444444,
              "#bd3786"
             ],
             [
              0.5555555555555556,
              "#d8576b"
             ],
             [
              0.6666666666666666,
              "#ed7953"
             ],
             [
              0.7777777777777778,
              "#fb9f3a"
             ],
             [
              0.8888888888888888,
              "#fdca26"
             ],
             [
              1,
              "#f0f921"
             ]
            ],
            "type": "heatmapgl"
           }
          ],
          "histogram": [
           {
            "marker": {
             "colorbar": {
              "outlinewidth": 0,
              "ticks": ""
             }
            },
            "type": "histogram"
           }
          ],
          "histogram2d": [
           {
            "colorbar": {
             "outlinewidth": 0,
             "ticks": ""
            },
            "colorscale": [
             [
              0,
              "#0d0887"
             ],
             [
              0.1111111111111111,
              "#46039f"
             ],
             [
              0.2222222222222222,
              "#7201a8"
             ],
             [
              0.3333333333333333,
              "#9c179e"
             ],
             [
              0.4444444444444444,
              "#bd3786"
             ],
             [
              0.5555555555555556,
              "#d8576b"
             ],
             [
              0.6666666666666666,
              "#ed7953"
             ],
             [
              0.7777777777777778,
              "#fb9f3a"
             ],
             [
              0.8888888888888888,
              "#fdca26"
             ],
             [
              1,
              "#f0f921"
             ]
            ],
            "type": "histogram2d"
           }
          ],
          "histogram2dcontour": [
           {
            "colorbar": {
             "outlinewidth": 0,
             "ticks": ""
            },
            "colorscale": [
             [
              0,
              "#0d0887"
             ],
             [
              0.1111111111111111,
              "#46039f"
             ],
             [
              0.2222222222222222,
              "#7201a8"
             ],
             [
              0.3333333333333333,
              "#9c179e"
             ],
             [
              0.4444444444444444,
              "#bd3786"
             ],
             [
              0.5555555555555556,
              "#d8576b"
             ],
             [
              0.6666666666666666,
              "#ed7953"
             ],
             [
              0.7777777777777778,
              "#fb9f3a"
             ],
             [
              0.8888888888888888,
              "#fdca26"
             ],
             [
              1,
              "#f0f921"
             ]
            ],
            "type": "histogram2dcontour"
           }
          ],
          "mesh3d": [
           {
            "colorbar": {
             "outlinewidth": 0,
             "ticks": ""
            },
            "type": "mesh3d"
           }
          ],
          "parcoords": [
           {
            "line": {
             "colorbar": {
              "outlinewidth": 0,
              "ticks": ""
             }
            },
            "type": "parcoords"
           }
          ],
          "scatter": [
           {
            "marker": {
             "colorbar": {
              "outlinewidth": 0,
              "ticks": ""
             }
            },
            "type": "scatter"
           }
          ],
          "scatter3d": [
           {
            "line": {
             "colorbar": {
              "outlinewidth": 0,
              "ticks": ""
             }
            },
            "marker": {
             "colorbar": {
              "outlinewidth": 0,
              "ticks": ""
             }
            },
            "type": "scatter3d"
           }
          ],
          "scattercarpet": [
           {
            "marker": {
             "colorbar": {
              "outlinewidth": 0,
              "ticks": ""
             }
            },
            "type": "scattercarpet"
           }
          ],
          "scattergeo": [
           {
            "marker": {
             "colorbar": {
              "outlinewidth": 0,
              "ticks": ""
             }
            },
            "type": "scattergeo"
           }
          ],
          "scattergl": [
           {
            "marker": {
             "colorbar": {
              "outlinewidth": 0,
              "ticks": ""
             }
            },
            "type": "scattergl"
           }
          ],
          "scattermapbox": [
           {
            "marker": {
             "colorbar": {
              "outlinewidth": 0,
              "ticks": ""
             }
            },
            "type": "scattermapbox"
           }
          ],
          "scatterpolar": [
           {
            "marker": {
             "colorbar": {
              "outlinewidth": 0,
              "ticks": ""
             }
            },
            "type": "scatterpolar"
           }
          ],
          "scatterpolargl": [
           {
            "marker": {
             "colorbar": {
              "outlinewidth": 0,
              "ticks": ""
             }
            },
            "type": "scatterpolargl"
           }
          ],
          "scatterternary": [
           {
            "marker": {
             "colorbar": {
              "outlinewidth": 0,
              "ticks": ""
             }
            },
            "type": "scatterternary"
           }
          ],
          "surface": [
           {
            "colorbar": {
             "outlinewidth": 0,
             "ticks": ""
            },
            "colorscale": [
             [
              0,
              "#0d0887"
             ],
             [
              0.1111111111111111,
              "#46039f"
             ],
             [
              0.2222222222222222,
              "#7201a8"
             ],
             [
              0.3333333333333333,
              "#9c179e"
             ],
             [
              0.4444444444444444,
              "#bd3786"
             ],
             [
              0.5555555555555556,
              "#d8576b"
             ],
             [
              0.6666666666666666,
              "#ed7953"
             ],
             [
              0.7777777777777778,
              "#fb9f3a"
             ],
             [
              0.8888888888888888,
              "#fdca26"
             ],
             [
              1,
              "#f0f921"
             ]
            ],
            "type": "surface"
           }
          ],
          "table": [
           {
            "cells": {
             "fill": {
              "color": "#EBF0F8"
             },
             "line": {
              "color": "white"
             }
            },
            "header": {
             "fill": {
              "color": "#C8D4E3"
             },
             "line": {
              "color": "white"
             }
            },
            "type": "table"
           }
          ]
         },
         "layout": {
          "annotationdefaults": {
           "arrowcolor": "#2a3f5f",
           "arrowhead": 0,
           "arrowwidth": 1
          },
          "colorscale": {
           "diverging": [
            [
             0,
             "#8e0152"
            ],
            [
             0.1,
             "#c51b7d"
            ],
            [
             0.2,
             "#de77ae"
            ],
            [
             0.3,
             "#f1b6da"
            ],
            [
             0.4,
             "#fde0ef"
            ],
            [
             0.5,
             "#f7f7f7"
            ],
            [
             0.6,
             "#e6f5d0"
            ],
            [
             0.7,
             "#b8e186"
            ],
            [
             0.8,
             "#7fbc41"
            ],
            [
             0.9,
             "#4d9221"
            ],
            [
             1,
             "#276419"
            ]
           ],
           "sequential": [
            [
             0,
             "#0d0887"
            ],
            [
             0.1111111111111111,
             "#46039f"
            ],
            [
             0.2222222222222222,
             "#7201a8"
            ],
            [
             0.3333333333333333,
             "#9c179e"
            ],
            [
             0.4444444444444444,
             "#bd3786"
            ],
            [
             0.5555555555555556,
             "#d8576b"
            ],
            [
             0.6666666666666666,
             "#ed7953"
            ],
            [
             0.7777777777777778,
             "#fb9f3a"
            ],
            [
             0.8888888888888888,
             "#fdca26"
            ],
            [
             1,
             "#f0f921"
            ]
           ],
           "sequentialminus": [
            [
             0,
             "#0d0887"
            ],
            [
             0.1111111111111111,
             "#46039f"
            ],
            [
             0.2222222222222222,
             "#7201a8"
            ],
            [
             0.3333333333333333,
             "#9c179e"
            ],
            [
             0.4444444444444444,
             "#bd3786"
            ],
            [
             0.5555555555555556,
             "#d8576b"
            ],
            [
             0.6666666666666666,
             "#ed7953"
            ],
            [
             0.7777777777777778,
             "#fb9f3a"
            ],
            [
             0.8888888888888888,
             "#fdca26"
            ],
            [
             1,
             "#f0f921"
            ]
           ]
          },
          "colorway": [
           "#636efa",
           "#EF553B",
           "#00cc96",
           "#ab63fa",
           "#FFA15A",
           "#19d3f3",
           "#FF6692",
           "#B6E880",
           "#FF97FF",
           "#FECB52"
          ],
          "font": {
           "color": "#2a3f5f"
          },
          "geo": {
           "bgcolor": "white",
           "lakecolor": "white",
           "landcolor": "#E5ECF6",
           "showlakes": true,
           "showland": true,
           "subunitcolor": "white"
          },
          "hoverlabel": {
           "align": "left"
          },
          "hovermode": "closest",
          "mapbox": {
           "style": "light"
          },
          "paper_bgcolor": "white",
          "plot_bgcolor": "#E5ECF6",
          "polar": {
           "angularaxis": {
            "gridcolor": "white",
            "linecolor": "white",
            "ticks": ""
           },
           "bgcolor": "#E5ECF6",
           "radialaxis": {
            "gridcolor": "white",
            "linecolor": "white",
            "ticks": ""
           }
          },
          "scene": {
           "xaxis": {
            "backgroundcolor": "#E5ECF6",
            "gridcolor": "white",
            "gridwidth": 2,
            "linecolor": "white",
            "showbackground": true,
            "ticks": "",
            "zerolinecolor": "white"
           },
           "yaxis": {
            "backgroundcolor": "#E5ECF6",
            "gridcolor": "white",
            "gridwidth": 2,
            "linecolor": "white",
            "showbackground": true,
            "ticks": "",
            "zerolinecolor": "white"
           },
           "zaxis": {
            "backgroundcolor": "#E5ECF6",
            "gridcolor": "white",
            "gridwidth": 2,
            "linecolor": "white",
            "showbackground": true,
            "ticks": "",
            "zerolinecolor": "white"
           }
          },
          "shapedefaults": {
           "line": {
            "color": "#2a3f5f"
           }
          },
          "ternary": {
           "aaxis": {
            "gridcolor": "white",
            "linecolor": "white",
            "ticks": ""
           },
           "baxis": {
            "gridcolor": "white",
            "linecolor": "white",
            "ticks": ""
           },
           "bgcolor": "#E5ECF6",
           "caxis": {
            "gridcolor": "white",
            "linecolor": "white",
            "ticks": ""
           }
          },
          "title": {
           "x": 0.05
          },
          "xaxis": {
           "automargin": true,
           "gridcolor": "white",
           "linecolor": "white",
           "ticks": "",
           "zerolinecolor": "white",
           "zerolinewidth": 2
          },
          "yaxis": {
           "automargin": true,
           "gridcolor": "white",
           "linecolor": "white",
           "ticks": "",
           "zerolinecolor": "white",
           "zerolinewidth": 2
          }
         }
        }
       }
      },
      "text/html": [
       "<div>\n",
       "        \n",
       "        \n",
       "            <div id=\"017b2fbd-0903-4ea1-8b58-68eee76c132f\" class=\"plotly-graph-div\" style=\"height:600px; width:100%;\"></div>\n",
       "            <script type=\"text/javascript\">\n",
       "                require([\"plotly\"], function(Plotly) {\n",
       "                    window.PLOTLYENV=window.PLOTLYENV || {};\n",
       "                    \n",
       "                if (document.getElementById(\"017b2fbd-0903-4ea1-8b58-68eee76c132f\")) {\n",
       "                    Plotly.newPlot(\n",
       "                        '017b2fbd-0903-4ea1-8b58-68eee76c132f',\n",
       "                        [{\"dimensions\": [{\"axis\": {\"matches\": true}, \"label\": \"beer_servings\", \"values\": [0, 42, 0, 23, 31, 57, 79, 0, 9, 5, 0, 9, 63, 77, 6, 124, 0, 31, 62, 20, 13, 0, 77, 5, 5, 22, 0, 71, 1, 140, 247, 0, 60, 16, 5, 2, 99, 1, 51, 19, 16, 25, 111, 6]}, {\"axis\": {\"matches\": true}, \"label\": \"spirit_servings\", \"values\": [0, 63, 0, 0, 2, 65, 192, 0, 114, 1, 0, 3, 69, 202, 21, 246, 0, 97, 0, 55, 4, 0, 189, 1, 6, 16, 0, 186, 42, 16, 326, 5, 12, 104, 35, 15, 258, 1, 22, 71, 135, 101, 2, 0]}, {\"axis\": {\"matches\": true}, \"label\": \"wine_servings\", \"values\": [0, 7, 0, 0, 1, 1, 8, 0, 0, 0, 0, 0, 9, 16, 1, 12, 0, 6, 123, 31, 0, 0, 8, 0, 0, 1, 0, 1, 7, 9, 73, 0, 11, 0, 16, 0, 1, 4, 7, 32, 5, 8, 1, 0]}, {\"axis\": {\"matches\": true}, \"label\": \"continent\", \"values\": [\"Asia\", \"Asia\", \"Asia\", \"Asia\", \"Asia\", \"Asia\", \"Asia\", \"Asia\", \"Asia\", \"Asia\", \"Asia\", \"Asia\", \"Asia\", \"Asia\", \"Asia\", \"Asia\", \"Asia\", \"Asia\", \"Asia\", \"Asia\", \"Asia\", \"Asia\", \"Asia\", \"Asia\", \"Asia\", \"Asia\", \"Asia\", \"Asia\", \"Asia\", \"Asia\", \"Asia\", \"Asia\", \"Asia\", \"Asia\", \"Asia\", \"Asia\", \"Asia\", \"Asia\", \"Asia\", \"Asia\", \"Asia\", \"Asia\", \"Asia\", \"Asia\"]}], \"hoverlabel\": {\"namelength\": 0}, \"hovertemplate\": \"continent=Asia<br>%{xaxis.title.text}=%{x}<br>%{yaxis.title.text}=%{y}\", \"legendgroup\": \"continent=Asia\", \"marker\": {\"color\": \"#636efa\", \"symbol\": \"circle\"}, \"name\": \"continent=Asia\", \"showlegend\": true, \"type\": \"splom\"}, {\"dimensions\": [{\"axis\": {\"matches\": true}, \"label\": \"beer_servings\", \"values\": [89, 245, 21, 279, 21, 142, 295, 76, 231, 230, 192, 361, 224, 224, 263, 127, 52, 346, 133, 234, 233, 313, 85, 281, 343, 236, 149, 0, 31, 251, 169, 343, 194, 109, 297, 0, 283, 196, 270, 284, 152, 185, 106, 206, 219]}, {\"axis\": {\"matches\": true}, \"label\": \"spirit_servings\", \"values\": [132, 138, 179, 75, 46, 373, 84, 173, 252, 87, 154, 170, 81, 194, 133, 151, 100, 117, 112, 215, 61, 118, 42, 216, 244, 133, 100, 0, 114, 88, 71, 215, 67, 226, 122, 0, 131, 293, 51, 157, 60, 100, 27, 237, 126]}, {\"axis\": {\"matches\": true}, \"label\": \"wine_servings\", \"values\": [54, 312, 11, 191, 5, 42, 212, 8, 94, 254, 113, 134, 278, 59, 97, 370, 149, 175, 218, 185, 78, 165, 237, 62, 56, 271, 120, 0, 128, 190, 129, 56, 339, 18, 167, 0, 127, 116, 276, 112, 186, 280, 86, 45, 195]}, {\"axis\": {\"matches\": true}, \"label\": \"continent\", \"values\": [\"Europe\", \"Europe\", \"Europe\", \"Europe\", \"Europe\", \"Europe\", \"Europe\", \"Europe\", \"Europe\", \"Europe\", \"Europe\", \"Europe\", \"Europe\", \"Europe\", \"Europe\", \"Europe\", \"Europe\", \"Europe\", \"Europe\", \"Europe\", \"Europe\", \"Europe\", \"Europe\", \"Europe\", \"Europe\", \"Europe\", \"Europe\", \"Europe\", \"Europe\", \"Europe\", \"Europe\", \"Europe\", \"Europe\", \"Europe\", \"Europe\", \"Europe\", \"Europe\", \"Europe\", \"Europe\", \"Europe\", \"Europe\", \"Europe\", \"Europe\", \"Europe\", \"Europe\"]}], \"hoverlabel\": {\"namelength\": 0}, \"hovertemplate\": \"continent=Europe<br>%{xaxis.title.text}=%{x}<br>%{yaxis.title.text}=%{y}\", \"legendgroup\": \"continent=Europe\", \"marker\": {\"color\": \"#EF553B\", \"symbol\": \"circle\"}, \"name\": \"continent=Europe\", \"showlegend\": true, \"type\": \"splom\"}, {\"dimensions\": [{\"axis\": {\"matches\": true}, \"label\": \"beer_servings\", \"values\": [25, 217, 34, 173, 25, 88, 37, 144, 147, 17, 15, 1, 76, 32, 15, 6, 92, 18, 20, 347, 8, 31, 9, 28, 58, 82, 19, 0, 26, 8, 5, 0, 98, 12, 47, 376, 3, 42, 43, 56, 9, 157, 25, 0, 225, 8, 90, 36, 51, 45, 36, 32, 64]}, {\"axis\": {\"matches\": true}, \"label\": \"spirit_servings\", \"values\": [0, 57, 4, 35, 7, 0, 1, 56, 1, 2, 1, 3, 1, 3, 44, 4, 0, 0, 3, 98, 0, 3, 0, 31, 22, 29, 152, 0, 15, 11, 1, 0, 31, 6, 18, 3, 2, 5, 2, 38, 1, 25, 3, 0, 76, 13, 2, 2, 3, 9, 6, 19, 18]}, {\"axis\": {\"matches\": true}, \"label\": \"wine_servings\", \"values\": [14, 45, 13, 35, 7, 0, 7, 16, 4, 1, 1, 1, 9, 1, 3, 1, 233, 0, 0, 59, 1, 10, 2, 21, 2, 0, 2, 0, 4, 1, 1, 0, 18, 10, 5, 1, 1, 2, 0, 140, 7, 51, 2, 0, 81, 0, 2, 19, 20, 0, 1, 4, 4]}, {\"axis\": {\"matches\": true}, \"label\": \"continent\", \"values\": [\"Africa\", \"Africa\", \"Africa\", \"Africa\", \"Africa\", \"Africa\", \"Africa\", \"Africa\", \"Africa\", \"Africa\", \"Africa\", \"Africa\", \"Africa\", \"Africa\", \"Africa\", \"Africa\", \"Africa\", \"Africa\", \"Africa\", \"Africa\", \"Africa\", \"Africa\", \"Africa\", \"Africa\", \"Africa\", \"Africa\", \"Africa\", \"Africa\", \"Africa\", \"Africa\", \"Africa\", \"Africa\", \"Africa\", \"Africa\", \"Africa\", \"Africa\", \"Africa\", \"Africa\", \"Africa\", \"Africa\", \"Africa\", \"Africa\", \"Africa\", \"Africa\", \"Africa\", \"Africa\", \"Africa\", \"Africa\", \"Africa\", \"Africa\", \"Africa\", \"Africa\", \"Africa\"]}], \"hoverlabel\": {\"namelength\": 0}, \"hovertemplate\": \"continent=Africa<br>%{xaxis.title.text}=%{x}<br>%{yaxis.title.text}=%{y}\", \"legendgroup\": \"continent=Africa\", \"marker\": {\"color\": \"#00cc96\", \"symbol\": \"circle\"}, \"name\": \"continent=Africa\", \"showlegend\": true, \"type\": \"splom\"}, {\"dimensions\": [{\"axis\": {\"matches\": true}, \"label\": \"beer_servings\", \"values\": [102, 122, 143, 263, 240, 149, 93, 52, 193, 52, 199, 53, 1, 69, 82, 238, 78, 285, 194, 171, 120, 197, 249]}, {\"axis\": {\"matches\": true}, \"label\": \"spirit_servings\", \"values\": [128, 176, 173, 114, 122, 87, 137, 286, 147, 69, 438, 69, 326, 98, 97, 68, 118, 104, 205, 315, 221, 156, 158]}, {\"axis\": {\"matches\": true}, \"label\": \"wine_servings\", \"values\": [45, 51, 36, 8, 100, 11, 5, 26, 9, 2, 28, 2, 1, 2, 9, 5, 1, 18, 32, 71, 11, 7, 84]}, {\"axis\": {\"matches\": true}, \"label\": \"continent\", \"values\": [\"North America\", \"North America\", \"North America\", \"North America\", \"North America\", \"North America\", \"North America\", \"North America\", \"North America\", \"North America\", \"North America\", \"North America\", \"North America\", \"North America\", \"North America\", \"North America\", \"North America\", \"North America\", \"North America\", \"North America\", \"North America\", \"North America\", \"North America\"]}], \"hoverlabel\": {\"namelength\": 0}, \"hovertemplate\": \"continent=North America<br>%{xaxis.title.text}=%{x}<br>%{yaxis.title.text}=%{y}\", \"legendgroup\": \"continent=North America\", \"marker\": {\"color\": \"#ab63fa\", \"symbol\": \"circle\"}, \"name\": \"continent=North America\", \"showlegend\": true, \"type\": \"splom\"}, {\"dimensions\": [{\"axis\": {\"matches\": true}, \"label\": \"beer_servings\", \"values\": [193, 167, 245, 130, 159, 162, 93, 213, 163, 128, 115, 333]}, {\"axis\": {\"matches\": true}, \"label\": \"spirit_servings\", \"values\": [25, 41, 145, 124, 76, 74, 302, 117, 160, 178, 35, 100]}, {\"axis\": {\"matches\": true}, \"label\": \"wine_servings\", \"values\": [221, 8, 16, 172, 3, 3, 1, 74, 21, 7, 220, 3]}, {\"axis\": {\"matches\": true}, \"label\": \"continent\", \"values\": [\"South America\", \"South America\", \"South America\", \"South America\", \"South America\", \"South America\", \"South America\", \"South America\", \"South America\", \"South America\", \"South America\", \"South America\"]}], \"hoverlabel\": {\"namelength\": 0}, \"hovertemplate\": \"continent=South America<br>%{xaxis.title.text}=%{x}<br>%{yaxis.title.text}=%{y}\", \"legendgroup\": \"continent=South America\", \"marker\": {\"color\": \"#FFA15A\", \"symbol\": \"circle\"}, \"name\": \"continent=South America\", \"showlegend\": true, \"type\": \"splom\"}, {\"dimensions\": [{\"axis\": {\"matches\": true}, \"label\": \"beer_servings\", \"values\": [261, 0, 77, 21, 0, 62, 49, 203, 188, 306, 44, 105, 56, 36, 6, 21]}, {\"axis\": {\"matches\": true}, \"label\": \"spirit_servings\", \"values\": [72, 254, 35, 34, 0, 50, 0, 79, 200, 63, 39, 18, 11, 21, 41, 18]}, {\"axis\": {\"matches\": true}, \"label\": \"wine_servings\", \"values\": [212, 74, 1, 1, 0, 18, 8, 175, 7, 23, 1, 24, 1, 5, 9, 11]}, {\"axis\": {\"matches\": true}, \"label\": \"continent\", \"values\": [\"Oceania\", \"Oceania\", \"Oceania\", \"Oceania\", \"Oceania\", \"Oceania\", \"Oceania\", \"Oceania\", \"Oceania\", \"Oceania\", \"Oceania\", \"Oceania\", \"Oceania\", \"Oceania\", \"Oceania\", \"Oceania\"]}], \"hoverlabel\": {\"namelength\": 0}, \"hovertemplate\": \"continent=Oceania<br>%{xaxis.title.text}=%{x}<br>%{yaxis.title.text}=%{y}\", \"legendgroup\": \"continent=Oceania\", \"marker\": {\"color\": \"#19d3f3\", \"symbol\": \"circle\"}, \"name\": \"continent=Oceania\", \"showlegend\": true, \"type\": \"splom\"}],\n",
       "                        {\"dragmode\": \"select\", \"height\": 600, \"legend\": {\"tracegroupgap\": 0}, \"margin\": {\"t\": 60}, \"template\": {\"data\": {\"bar\": [{\"error_x\": {\"color\": \"#2a3f5f\"}, \"error_y\": {\"color\": \"#2a3f5f\"}, \"marker\": {\"line\": {\"color\": \"#E5ECF6\", \"width\": 0.5}}, \"type\": \"bar\"}], \"barpolar\": [{\"marker\": {\"line\": {\"color\": \"#E5ECF6\", \"width\": 0.5}}, \"type\": \"barpolar\"}], \"carpet\": [{\"aaxis\": {\"endlinecolor\": \"#2a3f5f\", \"gridcolor\": \"white\", \"linecolor\": \"white\", \"minorgridcolor\": \"white\", \"startlinecolor\": \"#2a3f5f\"}, \"baxis\": {\"endlinecolor\": \"#2a3f5f\", \"gridcolor\": \"white\", \"linecolor\": \"white\", \"minorgridcolor\": \"white\", \"startlinecolor\": \"#2a3f5f\"}, \"type\": \"carpet\"}], \"choropleth\": [{\"colorbar\": {\"outlinewidth\": 0, \"ticks\": \"\"}, \"type\": \"choropleth\"}], \"contour\": [{\"colorbar\": {\"outlinewidth\": 0, \"ticks\": \"\"}, \"colorscale\": [[0.0, \"#0d0887\"], [0.1111111111111111, \"#46039f\"], [0.2222222222222222, \"#7201a8\"], [0.3333333333333333, \"#9c179e\"], [0.4444444444444444, \"#bd3786\"], [0.5555555555555556, \"#d8576b\"], [0.6666666666666666, \"#ed7953\"], [0.7777777777777778, \"#fb9f3a\"], [0.8888888888888888, \"#fdca26\"], [1.0, \"#f0f921\"]], \"type\": \"contour\"}], \"contourcarpet\": [{\"colorbar\": {\"outlinewidth\": 0, \"ticks\": \"\"}, \"type\": \"contourcarpet\"}], \"heatmap\": [{\"colorbar\": {\"outlinewidth\": 0, \"ticks\": \"\"}, \"colorscale\": [[0.0, \"#0d0887\"], [0.1111111111111111, \"#46039f\"], [0.2222222222222222, \"#7201a8\"], [0.3333333333333333, \"#9c179e\"], [0.4444444444444444, \"#bd3786\"], [0.5555555555555556, \"#d8576b\"], [0.6666666666666666, \"#ed7953\"], [0.7777777777777778, \"#fb9f3a\"], [0.8888888888888888, \"#fdca26\"], [1.0, \"#f0f921\"]], \"type\": \"heatmap\"}], \"heatmapgl\": [{\"colorbar\": {\"outlinewidth\": 0, \"ticks\": \"\"}, \"colorscale\": [[0.0, \"#0d0887\"], [0.1111111111111111, \"#46039f\"], [0.2222222222222222, \"#7201a8\"], [0.3333333333333333, \"#9c179e\"], [0.4444444444444444, \"#bd3786\"], [0.5555555555555556, \"#d8576b\"], [0.6666666666666666, \"#ed7953\"], [0.7777777777777778, \"#fb9f3a\"], [0.8888888888888888, \"#fdca26\"], [1.0, \"#f0f921\"]], \"type\": \"heatmapgl\"}], \"histogram\": [{\"marker\": {\"colorbar\": {\"outlinewidth\": 0, \"ticks\": \"\"}}, \"type\": \"histogram\"}], \"histogram2d\": [{\"colorbar\": {\"outlinewidth\": 0, \"ticks\": \"\"}, \"colorscale\": [[0.0, \"#0d0887\"], [0.1111111111111111, \"#46039f\"], [0.2222222222222222, \"#7201a8\"], [0.3333333333333333, \"#9c179e\"], [0.4444444444444444, \"#bd3786\"], [0.5555555555555556, \"#d8576b\"], [0.6666666666666666, \"#ed7953\"], [0.7777777777777778, \"#fb9f3a\"], [0.8888888888888888, \"#fdca26\"], [1.0, \"#f0f921\"]], \"type\": \"histogram2d\"}], \"histogram2dcontour\": [{\"colorbar\": {\"outlinewidth\": 0, \"ticks\": \"\"}, \"colorscale\": [[0.0, \"#0d0887\"], [0.1111111111111111, \"#46039f\"], [0.2222222222222222, \"#7201a8\"], [0.3333333333333333, \"#9c179e\"], [0.4444444444444444, \"#bd3786\"], [0.5555555555555556, \"#d8576b\"], [0.6666666666666666, \"#ed7953\"], [0.7777777777777778, \"#fb9f3a\"], [0.8888888888888888, \"#fdca26\"], [1.0, \"#f0f921\"]], \"type\": \"histogram2dcontour\"}], \"mesh3d\": [{\"colorbar\": {\"outlinewidth\": 0, \"ticks\": \"\"}, \"type\": \"mesh3d\"}], \"parcoords\": [{\"line\": {\"colorbar\": {\"outlinewidth\": 0, \"ticks\": \"\"}}, \"type\": \"parcoords\"}], \"scatter\": [{\"marker\": {\"colorbar\": {\"outlinewidth\": 0, \"ticks\": \"\"}}, \"type\": \"scatter\"}], \"scatter3d\": [{\"line\": {\"colorbar\": {\"outlinewidth\": 0, \"ticks\": \"\"}}, \"marker\": {\"colorbar\": {\"outlinewidth\": 0, \"ticks\": \"\"}}, \"type\": \"scatter3d\"}], \"scattercarpet\": [{\"marker\": {\"colorbar\": {\"outlinewidth\": 0, \"ticks\": \"\"}}, \"type\": \"scattercarpet\"}], \"scattergeo\": [{\"marker\": {\"colorbar\": {\"outlinewidth\": 0, \"ticks\": \"\"}}, \"type\": \"scattergeo\"}], \"scattergl\": [{\"marker\": {\"colorbar\": {\"outlinewidth\": 0, \"ticks\": \"\"}}, \"type\": \"scattergl\"}], \"scattermapbox\": [{\"marker\": {\"colorbar\": {\"outlinewidth\": 0, \"ticks\": \"\"}}, \"type\": \"scattermapbox\"}], \"scatterpolar\": [{\"marker\": {\"colorbar\": {\"outlinewidth\": 0, \"ticks\": \"\"}}, \"type\": \"scatterpolar\"}], \"scatterpolargl\": [{\"marker\": {\"colorbar\": {\"outlinewidth\": 0, \"ticks\": \"\"}}, \"type\": \"scatterpolargl\"}], \"scatterternary\": [{\"marker\": {\"colorbar\": {\"outlinewidth\": 0, \"ticks\": \"\"}}, \"type\": \"scatterternary\"}], \"surface\": [{\"colorbar\": {\"outlinewidth\": 0, \"ticks\": \"\"}, \"colorscale\": [[0.0, \"#0d0887\"], [0.1111111111111111, \"#46039f\"], [0.2222222222222222, \"#7201a8\"], [0.3333333333333333, \"#9c179e\"], [0.4444444444444444, \"#bd3786\"], [0.5555555555555556, \"#d8576b\"], [0.6666666666666666, \"#ed7953\"], [0.7777777777777778, \"#fb9f3a\"], [0.8888888888888888, \"#fdca26\"], [1.0, \"#f0f921\"]], \"type\": \"surface\"}], \"table\": [{\"cells\": {\"fill\": {\"color\": \"#EBF0F8\"}, \"line\": {\"color\": \"white\"}}, \"header\": {\"fill\": {\"color\": \"#C8D4E3\"}, \"line\": {\"color\": \"white\"}}, \"type\": \"table\"}]}, \"layout\": {\"annotationdefaults\": {\"arrowcolor\": \"#2a3f5f\", \"arrowhead\": 0, \"arrowwidth\": 1}, \"colorscale\": {\"diverging\": [[0, \"#8e0152\"], [0.1, \"#c51b7d\"], [0.2, \"#de77ae\"], [0.3, \"#f1b6da\"], [0.4, \"#fde0ef\"], [0.5, \"#f7f7f7\"], [0.6, \"#e6f5d0\"], [0.7, \"#b8e186\"], [0.8, \"#7fbc41\"], [0.9, \"#4d9221\"], [1, \"#276419\"]], \"sequential\": [[0.0, \"#0d0887\"], [0.1111111111111111, \"#46039f\"], [0.2222222222222222, \"#7201a8\"], [0.3333333333333333, \"#9c179e\"], [0.4444444444444444, \"#bd3786\"], [0.5555555555555556, \"#d8576b\"], [0.6666666666666666, \"#ed7953\"], [0.7777777777777778, \"#fb9f3a\"], [0.8888888888888888, \"#fdca26\"], [1.0, \"#f0f921\"]], \"sequentialminus\": [[0.0, \"#0d0887\"], [0.1111111111111111, \"#46039f\"], [0.2222222222222222, \"#7201a8\"], [0.3333333333333333, \"#9c179e\"], [0.4444444444444444, \"#bd3786\"], [0.5555555555555556, \"#d8576b\"], [0.6666666666666666, \"#ed7953\"], [0.7777777777777778, \"#fb9f3a\"], [0.8888888888888888, \"#fdca26\"], [1.0, \"#f0f921\"]]}, \"colorway\": [\"#636efa\", \"#EF553B\", \"#00cc96\", \"#ab63fa\", \"#FFA15A\", \"#19d3f3\", \"#FF6692\", \"#B6E880\", \"#FF97FF\", \"#FECB52\"], \"font\": {\"color\": \"#2a3f5f\"}, \"geo\": {\"bgcolor\": \"white\", \"lakecolor\": \"white\", \"landcolor\": \"#E5ECF6\", \"showlakes\": true, \"showland\": true, \"subunitcolor\": \"white\"}, \"hoverlabel\": {\"align\": \"left\"}, \"hovermode\": \"closest\", \"mapbox\": {\"style\": \"light\"}, \"paper_bgcolor\": \"white\", \"plot_bgcolor\": \"#E5ECF6\", \"polar\": {\"angularaxis\": {\"gridcolor\": \"white\", \"linecolor\": \"white\", \"ticks\": \"\"}, \"bgcolor\": \"#E5ECF6\", \"radialaxis\": {\"gridcolor\": \"white\", \"linecolor\": \"white\", \"ticks\": \"\"}}, \"scene\": {\"xaxis\": {\"backgroundcolor\": \"#E5ECF6\", \"gridcolor\": \"white\", \"gridwidth\": 2, \"linecolor\": \"white\", \"showbackground\": true, \"ticks\": \"\", \"zerolinecolor\": \"white\"}, \"yaxis\": {\"backgroundcolor\": \"#E5ECF6\", \"gridcolor\": \"white\", \"gridwidth\": 2, \"linecolor\": \"white\", \"showbackground\": true, \"ticks\": \"\", \"zerolinecolor\": \"white\"}, \"zaxis\": {\"backgroundcolor\": \"#E5ECF6\", \"gridcolor\": \"white\", \"gridwidth\": 2, \"linecolor\": \"white\", \"showbackground\": true, \"ticks\": \"\", \"zerolinecolor\": \"white\"}}, \"shapedefaults\": {\"line\": {\"color\": \"#2a3f5f\"}}, \"ternary\": {\"aaxis\": {\"gridcolor\": \"white\", \"linecolor\": \"white\", \"ticks\": \"\"}, \"baxis\": {\"gridcolor\": \"white\", \"linecolor\": \"white\", \"ticks\": \"\"}, \"bgcolor\": \"#E5ECF6\", \"caxis\": {\"gridcolor\": \"white\", \"linecolor\": \"white\", \"ticks\": \"\"}}, \"title\": {\"x\": 0.05}, \"xaxis\": {\"automargin\": true, \"gridcolor\": \"white\", \"linecolor\": \"white\", \"ticks\": \"\", \"zerolinecolor\": \"white\", \"zerolinewidth\": 2}, \"yaxis\": {\"automargin\": true, \"gridcolor\": \"white\", \"linecolor\": \"white\", \"ticks\": \"\", \"zerolinecolor\": \"white\", \"zerolinewidth\": 2}}}},\n",
       "                        {\"responsive\": true}\n",
       "                    ).then(function(){\n",
       "                            \n",
       "var gd = document.getElementById('017b2fbd-0903-4ea1-8b58-68eee76c132f');\n",
       "var x = new MutationObserver(function (mutations, observer) {{\n",
       "        var display = window.getComputedStyle(gd).display;\n",
       "        if (!display || display === 'none') {{\n",
       "            console.log([gd, 'removed!']);\n",
       "            Plotly.purge(gd);\n",
       "            observer.disconnect();\n",
       "        }}\n",
       "}});\n",
       "\n",
       "// Listen for the removal of the full notebook cells\n",
       "var notebookContainer = gd.closest('#notebook-container');\n",
       "if (notebookContainer) {{\n",
       "    x.observe(notebookContainer, {childList: true});\n",
       "}}\n",
       "\n",
       "// Listen for the clearing of the current output cell\n",
       "var outputEl = gd.closest('.output');\n",
       "if (outputEl) {{\n",
       "    x.observe(outputEl, {childList: true});\n",
       "}}\n",
       "\n",
       "                        })\n",
       "                };\n",
       "                });\n",
       "            </script>\n",
       "        </div>"
      ]
     },
     "metadata": {},
     "output_type": "display_data"
    },
    {
     "data": {
      "text/plain": [
       "<function plotly.express._chart_types.scatter_matrix(data_frame, dimensions=None, color=None, symbol=None, size=None, hover_name=None, hover_data=None, category_orders={}, labels={}, color_discrete_sequence=None, color_discrete_map={}, color_continuous_scale=None, range_color=None, color_continuous_midpoint=None, symbol_sequence=None, symbol_map={}, opacity=None, size_max=None, title=None, template=None, width=None, height=None)>"
      ]
     },
     "execution_count": 17,
     "metadata": {},
     "output_type": "execute_result"
    }
   ],
   "source": [
    "import plotly.express as px\n",
    "fig = px.scatter_matrix(drinks_df, dimensions=['continent','beer_servings','wine_servings','spirit_servings'],color='continent')\n",
    "fig.show()\n",
    "\n",
    "px.scatter_matrix"
   ]
  }
 ],
 "metadata": {
  "kernelspec": {
   "display_name": "Python 3",
   "language": "python",
   "name": "python3"
  },
  "language_info": {
   "codemirror_mode": {
    "name": "ipython",
    "version": 3
   },
   "file_extension": ".py",
   "mimetype": "text/x-python",
   "name": "python",
   "nbconvert_exporter": "python",
   "pygments_lexer": "ipython3",
   "version": "3.7.3"
  }
 },
 "nbformat": 4,
 "nbformat_minor": 2
}
